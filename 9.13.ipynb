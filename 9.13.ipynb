{
 "cells": [
  {
   "cell_type": "markdown",
   "metadata": {},
   "source": [
    "# 循环\n",
    "- 循环是一种控制语句块重复执行的结构\n",
    "- while  适用于广度遍历\n",
    "- for    开发中经常使用"
   ]
  },
  {
   "cell_type": "markdown",
   "metadata": {},
   "source": [
    "## while 循环\n",
    "- 当一个条件保持真的时候while循环重复执行语句\n",
    "- while 循环一定要有结束条件，否则很容易进入死循环\n",
    "- while 循环的语法是：\n",
    "\n",
    "    while loop-contunuation-conndition:\n",
    "\n",
    "        Statement"
   ]
  },
  {
   "cell_type": "code",
   "execution_count": null,
   "metadata": {},
   "outputs": [],
   "source": [
    "import os\n",
    "while 1:\n",
    "    os.system('say hello')"
   ]
  },
  {
   "cell_type": "markdown",
   "metadata": {},
   "source": [
    "## 示例：\n",
    "sum = 0\n",
    "\n",
    "i = 1\n",
    "\n",
    "while i <10:\n",
    "\n",
    "    sum = sum + i\n",
    "    i = i + 1"
   ]
  },
  {
   "cell_type": "markdown",
   "metadata": {},
   "source": [
    "## 错误示例：\n",
    "sum = 0\n",
    "\n",
    "i = 1\n",
    "\n",
    "while i <10:\n",
    "\n",
    "    sum = sum + i\n",
    "\n",
    "i = i + 1\n",
    "- 一旦进入死循环可按 Ctrl + c 停止"
   ]
  },
  {
   "cell_type": "markdown",
   "metadata": {},
   "source": [
    "## EP：\n",
    "![](../Photo/143.png)\n",
    "![](../Photo/144.png)"
   ]
  },
  {
   "cell_type": "markdown",
   "metadata": {},
   "source": [
    "# 验证码\n",
    "- 随机产生四个字母的验证码，如果正确，输出验证码正确。如果错误，产生新的验证码，用户重新输入。\n",
    "- 验证码只能输入三次，如果三次都错，返回“别爬了，我们小网站没什么好爬的”\n",
    "- 密码登录，如果三次错误，账号被锁定\n"
   ]
  },
  {
   "cell_type": "code",
   "execution_count": null,
   "metadata": {},
   "outputs": [],
   "source": [
    "#四位随机数验证码\n",
    "import random\n",
    "i = 0\n",
    "while i <3 :\n",
    "    yanzhengma = str(random.randint(1000,9999))\n",
    "    print('验证码是:',yanzhengma)\n",
    "    input_ = input('>>')\n",
    "    if yanzhengma == input_:\n",
    "        print('验证码正确')\n",
    "        break\n",
    "    else:\n",
    "        print('请再输入')\n",
    "        i +=1\n",
    "else:\n",
    "    print('验证码次数超限')"
   ]
  },
  {
   "cell_type": "code",
   "execution_count": 2,
   "metadata": {},
   "outputs": [
    {
     "name": "stdout",
     "output_type": "stream",
     "text": [
      "验证码是: qhxz\n",
      ">>qhxz\n",
      "验证码正确\n"
     ]
    }
   ],
   "source": [
    "#四位字符随机数（使用ASCII码方式）\n",
    "import random\n",
    "i = 0\n",
    "while i <3 :\n",
    "    yanzhengma1 = chr(random.randint(97,122))\n",
    "    yanzhengma2 = chr(random.randint(97,122))\n",
    "    yanzhengma3 = chr(random.randint(97,122))\n",
    "    yanzhengma4 = chr(random.randint(97,122))\n",
    "    yanzhengma = yanzhengma1 + yanzhengma2+ yanzhengma3 + yanzhengma4\n",
    "    \n",
    "    print('验证码是:',yanzhengma)\n",
    "    input_ = input('>>')\n",
    "    if yanzhengma == input_:\n",
    "        print('验证码正确')\n",
    "        break\n",
    "    else:\n",
    "        print('请再输入')\n",
    "        i +=1\n",
    "else:\n",
    "    print('验证码次数超限')"
   ]
  },
  {
   "cell_type": "code",
   "execution_count": 3,
   "metadata": {},
   "outputs": [
    {
     "name": "stdout",
     "output_type": "stream",
     "text": [
      "验证码是：kuev\n",
      "请输入验证码>>>\n",
      "验证码错误，请继续输入\n",
      "验证码是：fdtg\n",
      "请输入验证码>>>\n",
      "验证码错误，请继续输入\n",
      "验证码是：feah\n",
      "请输入验证码>>>\n",
      "验证码错误，请继续输入\n",
      "验证码次数超限\n"
     ]
    }
   ],
   "source": [
    "#四位字符随机数，列表方式\n",
    "import random\n",
    "arr=['a','b','c','d','e','f','g','h','i','j','k','l','m','n','o','p','q','r','s','t','u','v','w','x','y','z']\n",
    "i=0\n",
    "while i<3:\n",
    "    num=random.randint(0,25)\n",
    "    num_f=random.randint(0,25)\n",
    "    num_s=random.randint(0,25)\n",
    "    num_t=random.randint(0,25)\n",
    "    number=arr[num]+arr[num_f]+arr[num_s]+arr[num_t]\n",
    "    print('验证码是：'+number)\n",
    "    input_=input('请输入验证码>>>')\n",
    "    if number==input_:\n",
    "        print('验证码正确')\n",
    "        break\n",
    "    else:\n",
    "        print('验证码错误，请继续输入')\n",
    "        i +=1\n",
    "else:\n",
    "    print('验证码次数超限')"
   ]
  },
  {
   "cell_type": "code",
   "execution_count": null,
   "metadata": {},
   "outputs": [],
   "source": [
    "#四位数字加字符验证码\n",
    "import random\n",
    "i = 0\n",
    "while i <3 :\n",
    "    list_ = ['1','2','3','4','5','6','7','8','9','0','q','w','e','r','t','y','u','i','o','p','a','s','d','f','g','h','j','k','l','z','x','c','v','n','m']\n",
    "    random.shuffle(list_)\n",
    "    yanzhengma = ''.join(list_[0:4])\n",
    "    print('验证码是:',yanzhengma)\n",
    "    input_ = input('>>')\n",
    "    \n",
    "    if yanzhengma == input_:\n",
    "        print('验证码正确')\n",
    "        break\n",
    "    else:\n",
    "        print('请再输入')\n",
    "        i +=1\n",
    "#     if i ==3:\n",
    "#         print('验证码次数超限')\n",
    "else:\n",
    "    print('验证码次数超限')"
   ]
  },
  {
   "cell_type": "markdown",
   "metadata": {},
   "source": [
    "## 尝试死循环"
   ]
  },
  {
   "cell_type": "markdown",
   "metadata": {},
   "source": [
    "## 实例研究：猜数字\n",
    "- 你将要编写一个能够随机生成一个0到10之间的且包括两者的数字程序，这个程序\n",
    "- 提示用户连续地输入数字直到正确，且提示用户输入的数字是过高还是过低"
   ]
  },
  {
   "cell_type": "markdown",
   "metadata": {},
   "source": [
    "## 使用哨兵值来控制循环\n",
    "- 哨兵值来表明输入的结束\n",
    "- ![](../Photo/54.png)"
   ]
  },
  {
   "cell_type": "markdown",
   "metadata": {},
   "source": [
    "## 警告\n",
    "![](../Photo/55.png)"
   ]
  },
  {
   "cell_type": "markdown",
   "metadata": {},
   "source": [
    "## for 循环\n",
    "- Python的for 循环通过一个序列中的每个值来进行迭代\n",
    "- range(a,b,k)， a，b，k 必须为整数\n",
    "- a: start\n",
    "- b: end\n",
    "- k: step\n",
    "- 注意for 是循环一切可迭代对象，而不是只能使用range"
   ]
  },
  {
   "cell_type": "code",
   "execution_count": 8,
   "metadata": {},
   "outputs": [
    {
     "name": "stdout",
     "output_type": "stream",
     "text": [
      "0\n",
      "1\n",
      "2\n",
      "3\n",
      "4\n",
      "5\n",
      "6\n",
      "7\n",
      "8\n",
      "9\n"
     ]
    }
   ],
   "source": [
    "for iterm in range(10):\n",
    "    print(iterm)"
   ]
  },
  {
   "cell_type": "code",
   "execution_count": 9,
   "metadata": {},
   "outputs": [
    {
     "name": "stdout",
     "output_type": "stream",
     "text": [
      "0\n",
      "2\n",
      "4\n",
      "6\n",
      "8\n"
     ]
    }
   ],
   "source": [
    "for iterm in range(0,10,2):\n",
    "    print(iterm)"
   ]
  },
  {
   "cell_type": "markdown",
   "metadata": {},
   "source": [
    "# 在Python里面一切皆对象"
   ]
  },
  {
   "cell_type": "markdown",
   "metadata": {},
   "source": [
    "## EP:\n",
    "- ![](../Photo/145.png)"
   ]
  },
  {
   "cell_type": "code",
   "execution_count": 6,
   "metadata": {},
   "outputs": [
    {
     "name": "stdout",
     "output_type": "stream",
     "text": [
      "a\n",
      "b\n",
      "c\n",
      "d\n",
      "e\n",
      "f\n",
      "g\n"
     ]
    }
   ],
   "source": [
    "dir=['a','b','c','d','e','f','g']\n",
    "i=0\n",
    "while i<7:\n",
    "    print(dir[i])\n",
    "    i +=1"
   ]
  },
  {
   "cell_type": "markdown",
   "metadata": {},
   "source": [
    "## 嵌套循环\n",
    "- 一个循环可以嵌套另一个循环\n",
    "- 每次循环外层时，内层循环都会被刷新重新完成循环\n",
    "- 也就是说，大循环执行一次，小循环会全部执行一次\n",
    "- 注意：\n",
    "> - 多层循环非常耗时\n",
    "  - 最多使用3层循环"
   ]
  },
  {
   "cell_type": "markdown",
   "metadata": {},
   "source": [
    "## EP：\n",
    "- 使用多层循环完成9X9乘法表\n",
    "- 显示50以内所有的素数"
   ]
  },
  {
   "cell_type": "code",
   "execution_count": 46,
   "metadata": {},
   "outputs": [
    {
     "name": "stdout",
     "output_type": "stream",
     "text": [
      "1*1=1  \n",
      "2*1=2 2*2=4  \n",
      "3*1=3 3*2=6 3*3=9  \n",
      "4*1=4 4*2=8 4*3=12 4*4=16  \n",
      "5*1=5 5*2=10 5*3=15 5*4=20 5*5=25  \n",
      "6*1=6 6*2=12 6*3=18 6*4=24 6*5=30 6*6=36  \n",
      "7*1=7 7*2=14 7*3=21 7*4=28 7*5=35 7*6=42 7*7=49  \n",
      "8*1=8 8*2=16 8*3=24 8*4=32 8*5=40 8*6=48 8*7=56 8*8=64  \n",
      "9*1=9 9*2=18 9*3=27 9*4=36 9*5=45 9*6=54 9*7=63 9*8=72 9*9=81  \n"
     ]
    }
   ],
   "source": [
    "i=1\n",
    "j=1\n",
    "for i in range(1,10):\n",
    "    for j in range(1,i+1):\n",
    "        sum=i*j\n",
    "        print(str(i)+'*'+str(j)+'='+str(sum),end=' ')\n",
    "    print(' ')"
   ]
  },
  {
   "cell_type": "code",
   "execution_count": 51,
   "metadata": {},
   "outputs": [
    {
     "name": "stdout",
     "output_type": "stream",
     "text": [
      "1x1=1\t\n",
      "2x1=2\t2x2=4\t\n",
      "3x1=3\t3x2=6\t3x3=9\t\n",
      "4x1=4\t4x2=8\t4x3=12\t4x4=16\t\n",
      "5x1=5\t5x2=10\t5x3=15\t5x4=20\t5x5=25\t\n",
      "6x1=6\t6x2=12\t6x3=18\t6x4=24\t6x5=30\t6x6=36\t\n",
      "7x1=7\t7x2=14\t7x3=21\t7x4=28\t7x5=35\t7x6=42\t7x7=49\t\n",
      "8x1=8\t8x2=16\t8x3=24\t8x4=32\t8x5=40\t8x6=48\t8x7=56\t8x8=64\t\n",
      "9x1=9\t9x2=18\t9x3=27\t9x4=36\t9x5=45\t9x6=54\t9x7=63\t9x8=72\t9x9=81\t\n"
     ]
    }
   ],
   "source": [
    "for i in range(1, 10):\n",
    "    for j in range(1, i+1):\n",
    "        print('{}x{}={}\\t'.format(i, j, i*j), end='')\n",
    "    print()"
   ]
  },
  {
   "cell_type": "markdown",
   "metadata": {},
   "source": [
    "## 关键字 break 和 continue\n",
    "- break 跳出循环，终止循环\n",
    "- continue 跳出此次循环，继续执行"
   ]
  },
  {
   "cell_type": "markdown",
   "metadata": {},
   "source": [
    "## 注意\n",
    "![](../Photo/56.png)\n",
    "![](../Photo/57.png)"
   ]
  },
  {
   "cell_type": "markdown",
   "metadata": {},
   "source": [
    "# Homework\n",
    "- 1 \n",
    "![](../Photo/58.png)"
   ]
  },
  {
   "cell_type": "code",
   "execution_count": 2,
   "metadata": {},
   "outputs": [
    {
     "name": "stdout",
     "output_type": "stream",
     "text": [
      "请输入不指定个数的整数：1\n",
      "请输入不指定个数的整数：2\n",
      "请输入不指定个数的整数：3\n",
      "请输入不指定个数的整数：0\n",
      "平均值是 2.0\n"
     ]
    }
   ],
   "source": [
    "sum_ = 0\n",
    "count = 0\n",
    "while True:\n",
    "    integer = eval(input('请输入不指定个数的整数：'))\n",
    "    if integer != 0 :\n",
    "        count += 1\n",
    "        sum_ = (sum_ + integer )       \n",
    "    elif integer == 0 :\n",
    "        sum_ /= count \n",
    "        break\n",
    "print('平均值是' ,sum_)"
   ]
  },
  {
   "cell_type": "markdown",
   "metadata": {},
   "source": [
    "- 2\n",
    "![](../Photo/59.png)"
   ]
  },
  {
   "cell_type": "code",
   "execution_count": 1,
   "metadata": {},
   "outputs": [
    {
     "name": "stdout",
     "output_type": "stream",
     "text": [
      "十年之后的学费为： 16288.946267774418\n",
      "73717.76425901079\n"
     ]
    }
   ],
   "source": [
    "xuefei = 10000\n",
    "zengzhang = 10000 * 0.05\n",
    "sum_ =0\n",
    "for i in range(1,11):\n",
    "    xuefei = xuefei * (1 + 0.05)\n",
    "    \n",
    "print('十年之后的学费为：',xuefei)\n",
    "\n",
    "\n",
    "for j in range(4):\n",
    "    xuefei = xuefei * (1 + 0.05)\n",
    "    sum_ +=xuefei\n",
    "print(sum_)"
   ]
  },
  {
   "cell_type": "markdown",
   "metadata": {},
   "source": [
    "- 3\n",
    "![](../Photo/58.png)"
   ]
  },
  {
   "cell_type": "markdown",
   "metadata": {},
   "source": [
    "- 4\n",
    "![](../Photo/60.png)"
   ]
  },
  {
   "cell_type": "code",
   "execution_count": 24,
   "metadata": {},
   "outputs": [
    {
     "name": "stdout",
     "output_type": "stream",
     "text": [
      "120 150 180 210 240 270 300 330 360 390 \n",
      "420 450 480 510 540 570 600 630 660 690 \n",
      "720 750 780 810 840 870 900 930 960 990 \n"
     ]
    }
   ],
   "source": [
    "count = 0\n",
    "for i in range(100,1001):\n",
    "    if i%5== 0and i%6==0:\n",
    "        print(i,end=' ')\n",
    "        count= count +1\n",
    "        if count%10==0:\n",
    "            print('')"
   ]
  },
  {
   "cell_type": "markdown",
   "metadata": {},
   "source": [
    "- 5\n",
    "![](../Photo/61.png)"
   ]
  },
  {
   "cell_type": "code",
   "execution_count": 68,
   "metadata": {},
   "outputs": [
    {
     "name": "stdout",
     "output_type": "stream",
     "text": [
      "110\n"
     ]
    }
   ],
   "source": [
    "import math\n",
    "while True:\n",
    "    n=math.sqrt(12000)\n",
    "    if n//1==n:\n",
    "        print(math.ceil(n+1))\n",
    "    else:\n",
    "        print(math.ceil(n))\n",
    "    break"
   ]
  },
  {
   "cell_type": "code",
   "execution_count": 49,
   "metadata": {},
   "outputs": [
    {
     "name": "stdout",
     "output_type": "stream",
     "text": [
      "22\n"
     ]
    }
   ],
   "source": [
    "while True:\n",
    "    n=12000**(1/3)\n",
    "    if n//1==n:\n",
    "        print(math.floor(n+1))\n",
    "    else:\n",
    "        print(math.floor(n))\n",
    "    break"
   ]
  },
  {
   "cell_type": "code",
   "execution_count": 1,
   "metadata": {},
   "outputs": [
    {
     "name": "stdout",
     "output_type": "stream",
     "text": [
      "110\n",
      "22\n"
     ]
    }
   ],
   "source": [
    "n=0\n",
    "j=0\n",
    "while n**2 < 12000:\n",
    "    n += 1\n",
    "print(n)\n",
    "while j**3 < 12000:\n",
    "    j += 1\n",
    "print(j-1)"
   ]
  },
  {
   "cell_type": "markdown",
   "metadata": {},
   "source": [
    "- 6\n",
    "![](../Photo/62.png)"
   ]
  },
  {
   "cell_type": "code",
   "execution_count": 2,
   "metadata": {},
   "outputs": [
    {
     "name": "stdout",
     "output_type": "stream",
     "text": [
      "输入贷款总额：10000\n",
      "输入贷款周期（年）：5\n",
      "利率为0.050000的月还款额为212.713594，总还款额为12762.815625\n",
      "利率为0.051250的月还款额为213.982764，总还款额为12838.965860\n",
      "利率为0.052500的月还款额为215.257986，总还款额为12915.479147\n",
      "利率为0.053750的月还款额为216.539280，总还款额为12992.356781\n",
      "利率为0.055000的月还款额为217.826668，总还款额为13069.600064\n",
      "利率为0.056250的月还款额为219.120172，总还款额为13147.210297\n",
      "利率为0.057500的月还款额为220.419813，总还款额为13225.188787\n",
      "利率为0.058750的月还款额为221.725614，总还款额为13303.536843\n",
      "利率为0.060000的月还款额为223.037596，总还款额为13382.255776\n",
      "利率为0.061250的月还款额为224.355782，总还款额为13461.346902\n",
      "利率为0.062500的月还款额为225.680192，总还款额为13540.811539\n",
      "利率为0.063750的月还款额为227.010850，总还款额为13620.651008\n",
      "利率为0.065000的月还款额为228.347777，总还款额为13700.866634\n",
      "利率为0.066250的月还款额为229.690996，总还款额为13781.459745\n",
      "利率为0.067500的月还款额为231.040528，总还款额为13862.431671\n",
      "利率为0.068750的月还款额为232.396396，总还款额为13943.783746\n",
      "利率为0.070000的月还款额为233.758622，总还款额为14025.517307\n",
      "利率为0.071250的月还款额为235.127228，总还款额为14107.633694\n",
      "利率为0.072500的月还款额为236.502238，总还款额为14190.134251\n",
      "利率为0.073750的月还款额为237.883672，总还款额为14273.020324\n",
      "利率为0.075000的月还款额为239.271554，总还款额为14356.293262\n",
      "利率为0.076250的月还款额为240.665907，总还款额为14439.954418\n",
      "利率为0.077500的月还款额为242.066752，总还款额为14524.005148\n",
      "利率为0.078750的月还款额为243.474114，总还款额为14608.446810\n",
      "利率为0.080000的月还款额为244.888013，总还款额为14693.280768\n"
     ]
    }
   ],
   "source": [
    "def computeNum(rate, loanAmount, numYears):\n",
    "    totalPayment = loanAmount * ((1+rate)**numYears)\n",
    "    return totalPayment\n",
    "\n",
    "loanAmount = eval(input('输入贷款总额：'))\n",
    "numYears =  eval(input('输入贷款周期（年）：'))\n",
    "for i in range(0, 25):\n",
    "    rate = 0.05 + i*0.00125\n",
    "    totalPay = computeNum(rate, loanAmount, numYears)\n",
    "    print('利率为%f的月还款额为%f，总还款额为%f' %(rate, totalPay/60, totalPay))"
   ]
  },
  {
   "cell_type": "markdown",
   "metadata": {},
   "source": [
    "- 7\n",
    "![](../Photo/63.png)"
   ]
  },
  {
   "cell_type": "code",
   "execution_count": 5,
   "metadata": {},
   "outputs": [
    {
     "name": "stdout",
     "output_type": "stream",
     "text": [
      "从右往左算的结果是：11.397003949278519\n",
      "从左往右算的结果是：11.397023948878513\n"
     ]
    }
   ],
   "source": [
    "n=50000\n",
    "sum1=0\n",
    "sum2=0\n",
    "while n>0:\n",
    "    sum1=sum1+1/n\n",
    "    n-=1\n",
    "print('从右往左算的结果是：'+str(sum1))\n",
    "n+=1\n",
    "while n<=50001:\n",
    "    sum2=sum2+1/n\n",
    "    n+=1\n",
    "print('从左往右算的结果是：'+str(sum2))\n"
   ]
  },
  {
   "cell_type": "markdown",
   "metadata": {},
   "source": [
    "- 8\n",
    "![](../Photo/64.png)"
   ]
  },
  {
   "cell_type": "code",
   "execution_count": 70,
   "metadata": {},
   "outputs": [
    {
     "name": "stdout",
     "output_type": "stream",
     "text": [
      "45.124450303050196\n"
     ]
    }
   ],
   "source": [
    "sum=0\n",
    "i = 1\n",
    "while i<98:\n",
    "    sum=sum+i/(i+2)\n",
    "    i=i+2\n",
    "print(sum)\n"
   ]
  },
  {
   "cell_type": "markdown",
   "metadata": {},
   "source": [
    "- 9\n",
    "![](../Photo/65.png)"
   ]
  },
  {
   "cell_type": "code",
   "execution_count": 74,
   "metadata": {},
   "outputs": [
    {
     "name": "stdout",
     "output_type": "stream",
     "text": [
      "3.1416926635905345\n",
      "3.1416426560898874\n",
      "3.1416259880342583\n",
      "3.1416176542148064\n",
      "3.1416126539897853\n",
      "3.1416093205342155\n",
      "3.1416069395081365\n",
      "3.1416051537460006\n",
      "3.1416037648243034\n",
      "3.1416026536897204\n"
     ]
    }
   ],
   "source": [
    "i=1\n",
    "pai=0\n",
    "while i<=100000:\n",
    "    pai=pai+4*((-1)**(i+1)/(2*i-1))\n",
    "    i=i+1\n",
    "    if i%10000==0:\n",
    "        print(pai)"
   ]
  },
  {
   "cell_type": "markdown",
   "metadata": {},
   "source": [
    "- 10 \n",
    "![](../Photo/66.png)"
   ]
  },
  {
   "cell_type": "code",
   "execution_count": 5,
   "metadata": {},
   "outputs": [
    {
     "name": "stdout",
     "output_type": "stream",
     "text": [
      "6 是一个完全数。\n",
      "28 是一个完全数。\n",
      "496 是一个完全数。\n",
      "8128 是一个完全数。\n"
     ]
    }
   ],
   "source": [
    "for i in range(1,10001):\n",
    "    s = 0 \n",
    "    for j in range(1,i):\n",
    "        if i % j == 0:\n",
    "            s = s + j\n",
    "    if s == i:\n",
    "        print(i,'是一个完全数。')"
   ]
  },
  {
   "cell_type": "markdown",
   "metadata": {},
   "source": [
    "- 11\n",
    "![](../Photo/67.png)"
   ]
  },
  {
   "cell_type": "code",
   "execution_count": 6,
   "metadata": {},
   "outputs": [
    {
     "name": "stdout",
     "output_type": "stream",
     "text": [
      "12 13 14 15 16 17 \n",
      "23 24 25 26 27 \n",
      "34 35 36 37 \n",
      "45 46 47 \n",
      "56 57 \n",
      "67 \n",
      "\n",
      "一共有21种\n"
     ]
    }
   ],
   "source": [
    "count=0\n",
    "for i in range(1, 8):\n",
    "    for j in range(i, 8):\n",
    "        if i!=j:\n",
    "            count = count +1\n",
    "            print('{}{}'.format(i, j), end= ' ')\n",
    "    print('')\n",
    "print('一共有'+str(count)+'种')"
   ]
  },
  {
   "cell_type": "code",
   "execution_count": 8,
   "metadata": {},
   "outputs": [
    {
     "name": "stdout",
     "output_type": "stream",
     "text": [
      "1\n",
      "['1']\n"
     ]
    }
   ],
   "source": [
    "arr=[(input( ))]\n",
    "print(arr) \n"
   ]
  },
  {
   "cell_type": "markdown",
   "metadata": {},
   "source": [
    "- 12\n",
    "![](../Photo/68.png)"
   ]
  },
  {
   "cell_type": "code",
   "execution_count": null,
   "metadata": {},
   "outputs": [],
   "source": [
    "import math\n",
    "sum_ = 0\n",
    "list_ = []\n",
    "for  i in range(10):\n",
    "    shu = eval(input('输入十个数：'))\n",
    "    sum_ +=shu\n",
    "    list_.append(shu)\n",
    "mean = sum_ / 10\n",
    "\n",
    "sum_j = 0\n",
    "for j in list_:\n",
    "    sum_j += (j-mean) ** 2\n",
    "var = math.sqrt(sum_j/10)\n",
    "print('mean:',sum_ /10)\n",
    "print('var:',var)"
   ]
  }
 ],
 "metadata": {
  "kernelspec": {
   "display_name": "Python 3",
   "language": "python",
   "name": "python3"
  },
  "language_info": {
   "codemirror_mode": {
    "name": "ipython",
    "version": 3
   },
   "file_extension": ".py",
   "mimetype": "text/x-python",
   "name": "python",
   "nbconvert_exporter": "python",
   "pygments_lexer": "ipython3",
   "version": "3.6.4"
  }
 },
 "nbformat": 4,
 "nbformat_minor": 2
}
