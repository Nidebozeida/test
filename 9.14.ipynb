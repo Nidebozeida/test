{
 "cells": [
  {
   "cell_type": "markdown",
   "metadata": {},
   "source": [
    "# 函数\n",
    "\n",
    "- 函数可以用来定义可重复代码，组织和简化\n",
    "- 一般来说一个函数在实际开发中为一个小功能\n",
    "- 一个类为一个大功能\n",
    "- 同样函数的长度不要超过一屏"
   ]
  },
  {
   "cell_type": "markdown",
   "metadata": {},
   "source": [
    "## 定义一个函数\n",
    "\n",
    "def function_name(list of parameters):\n",
    "    \n",
    "    do something\n",
    "![](../Photo/69.png)\n",
    "- 以前使用的random 或者range 或者print.. 其实都是函数或者类"
   ]
  },
  {
   "cell_type": "markdown",
   "metadata": {},
   "source": [
    "## 调用一个函数\n",
    "- functionName()\n",
    "- \"()\" 就代表调用"
   ]
  },
  {
   "cell_type": "code",
   "execution_count": 5,
   "metadata": {},
   "outputs": [],
   "source": [
    "def jiou():\n",
    "    '''\n",
    "    这是一个计算奇偶的程序，请运行\n",
    "    '''\n",
    "    num = eval(input('>>>' ))\n",
    "    if num % 2==0:\n",
    "        print('是偶数')\n",
    "    else:\n",
    "        print('是奇数')"
   ]
  },
  {
   "cell_type": "code",
   "execution_count": 4,
   "metadata": {
    "scrolled": true
   },
   "outputs": [
    {
     "name": "stdout",
     "output_type": "stream",
     "text": [
      ">>>2\n",
      "是偶数\n"
     ]
    }
   ],
   "source": [
    "jiou()"
   ]
  },
  {
   "cell_type": "code",
   "execution_count": 12,
   "metadata": {},
   "outputs": [],
   "source": [
    "def sushu():\n",
    "    '''\n",
    "    这是一个素数\n",
    "    '''\n",
    "    num = eval(input('>>>' ))\n",
    "    for i in range(2,num): \n",
    "        if num % i == 0:\n",
    "            print('不是素数')\n",
    "            break\n",
    "    else:\n",
    "        print('素数')\n"
   ]
  },
  {
   "cell_type": "code",
   "execution_count": 14,
   "metadata": {},
   "outputs": [
    {
     "name": "stdout",
     "output_type": "stream",
     "text": [
      ">>>8\n",
      "不是素数\n"
     ]
    }
   ],
   "source": [
    "sushu()"
   ]
  },
  {
   "cell_type": "markdown",
   "metadata": {},
   "source": [
    "![](../Photo/70.png)"
   ]
  },
  {
   "cell_type": "markdown",
   "metadata": {},
   "source": [
    "## 带返回值和不带返回值的函数\n",
    "- return 返回的内容\n",
    "- return 返回多个值\n",
    "- 一般情况下，在多个函数协同完成一个功能的时候，那么将会有返回值"
   ]
  },
  {
   "cell_type": "markdown",
   "metadata": {},
   "source": [
    "![](../Photo/71.png)\n",
    "\n",
    "- 当然也可以自定义返回None"
   ]
  },
  {
   "cell_type": "code",
   "execution_count": null,
   "metadata": {},
   "outputs": [],
   "source": []
  },
  {
   "cell_type": "markdown",
   "metadata": {},
   "source": [
    "## EP：\n",
    "![](../Photo/72.png)"
   ]
  },
  {
   "cell_type": "markdown",
   "metadata": {},
   "source": [
    "## 类型和关键字参数\n",
    "- 普通参数\n",
    "- 多个参数\n",
    "- 默认值参数\n",
    "- 不定长参数"
   ]
  },
  {
   "cell_type": "code",
   "execution_count": 15,
   "metadata": {},
   "outputs": [],
   "source": [
    "import os\n",
    "def kuajiang(name):   #函数的传参\n",
    "    os.system('say {}你真是一个天才'.format(name))"
   ]
  },
  {
   "cell_type": "code",
   "execution_count": null,
   "metadata": {},
   "outputs": [],
   "source": [
    "kuajiang('name')  #位置参数 不带参数名传递方式"
   ]
  },
  {
   "cell_type": "code",
   "execution_count": null,
   "metadata": {},
   "outputs": [],
   "source": [
    "kuajiang(name='王建国') #带参数名传递方式"
   ]
  },
  {
   "cell_type": "markdown",
   "metadata": {},
   "source": [
    "## 普通参数"
   ]
  },
  {
   "cell_type": "code",
   "execution_count": null,
   "metadata": {},
   "outputs": [],
   "source": [
    "def san(num):             # 定义san函数,\n",
    "    return num**3         #求num的三次幂\n",
    "def liang(num):          # 定义liang函数\n",
    "    return num**2         #求num的二次幂\n",
    "def input_():              # 定义总函数\n",
    "    num = eval(input(' >>>'))\n",
    "    res3 = san(num)         #调用san函数\n",
    "    res2 = liang(num)       #调用liang函数\n",
    "    print(res3 - res2)    "
   ]
  },
  {
   "cell_type": "code",
   "execution_count": null,
   "metadata": {},
   "outputs": [],
   "source": [
    "input_()"
   ]
  },
  {
   "cell_type": "markdown",
   "metadata": {},
   "source": [
    "## 多个参数"
   ]
  },
  {
   "cell_type": "code",
   "execution_count": 4,
   "metadata": {},
   "outputs": [],
   "source": [
    "import os\n",
    "def kuajiang(name1,name2,name3):   #函数的传参   可以默认传值：name3=cccc\n",
    "    os.system('say {}{}{}你真是一个天才'.format(name1,name2,name3))"
   ]
  },
  {
   "cell_type": "code",
   "execution_count": 5,
   "metadata": {},
   "outputs": [],
   "source": [
    "kuajiang(name1='aaaa',name2='bbbb',name3='cccc')"
   ]
  },
  {
   "cell_type": "code",
   "execution_count": 12,
   "metadata": {},
   "outputs": [],
   "source": [
    "account='805425020'\n",
    "password='music'\n",
    "is_ok = False"
   ]
  },
  {
   "cell_type": "code",
   "execution_count": 13,
   "metadata": {},
   "outputs": [],
   "source": [
    "def login(account_login,password_login):\n",
    "    if account_login==account and password_login==password:\n",
    "        print('登录成功')\n",
    "    else:\n",
    "        print('账号或者密码错误')"
   ]
  },
  {
   "cell_type": "code",
   "execution_count": 14,
   "metadata": {},
   "outputs": [],
   "source": [
    "def qidong():\n",
    "    global is_ok        #全局变量\n",
    "    if is_ok == False:       \n",
    "        print('是否十天内免登录 y/n')\n",
    "        res = input('>>>')\n",
    "        account_login= input('请输入账号')\n",
    "        password_login= input('请输入密码')\n",
    "        if res=='y':\n",
    "            login(account_login,password_login)\n",
    "            is_ok = True\n",
    "        else:\n",
    "            login(account_login,password_login)       \n",
    "    else:\n",
    "        count =0\n",
    "        count +=1\n",
    "        if count<11:\n",
    "            print('登陆成功')\n",
    "            \n",
    "        else:\n",
    "            print('已超十天，请重新登录')"
   ]
  },
  {
   "cell_type": "code",
   "execution_count": 53,
   "metadata": {},
   "outputs": [
    {
     "name": "stdout",
     "output_type": "stream",
     "text": [
      "登陆成功\n"
     ]
    }
   ],
   "source": [
    "qidong()"
   ]
  },
  {
   "cell_type": "markdown",
   "metadata": {},
   "source": [
    "## 默认值参数"
   ]
  },
  {
   "cell_type": "markdown",
   "metadata": {},
   "source": [
    "## 强制命名"
   ]
  },
  {
   "cell_type": "markdown",
   "metadata": {},
   "source": [
    "## 不定长参数\n",
    "- \\*args\n",
    "> - 不定长，来多少装多少，不装也是可以的\n",
    "  - 返回的数据类型是元组\n",
    "  - args 名字是可以修改的，只是我们约定俗成的是args\n",
    "- \\**kwargs \n",
    "> - 返回的字典\n",
    "  - 输入的一定要是表达式（键值对）\n",
    "- name,\\*args,name2,\\**kwargs  使用参数名"
   ]
  },
  {
   "cell_type": "code",
   "execution_count": 10,
   "metadata": {},
   "outputs": [],
   "source": [
    "def test(*arges,**kwarges):\n",
    "    print(arges)\n",
    "    print(kwarges)"
   ]
  },
  {
   "cell_type": "code",
   "execution_count": 11,
   "metadata": {
    "scrolled": false
   },
   "outputs": [
    {
     "name": "stdout",
     "output_type": "stream",
     "text": [
      "(21,)\n",
      "{'a': 1100, 'b': 200, 'c': 30}\n"
     ]
    }
   ],
   "source": [
    "test(21,a=1100,b=200,c=30)"
   ]
  },
  {
   "cell_type": "markdown",
   "metadata": {},
   "source": [
    "## 变量的作用域\n",
    "- 局部变量 local\n",
    "- 全局变量 global\n",
    "- globals 函数返回一个全局变量的字典，包括所有导入的变量\n",
    "- locals() 函数会以字典类型返回当前位置的全部局部变量。"
   ]
  },
  {
   "cell_type": "markdown",
   "metadata": {},
   "source": [
    "## 注意：\n",
    "- global ：在进行赋值操作的时候需要声明\n",
    "- 官方解释：This is because when you make an assignment to a variable in a scope, that variable becomes local to that scope and shadows any similarly named variable in the outer scope.\n",
    "- ![](../Photo/73.png)"
   ]
  },
  {
   "cell_type": "markdown",
   "metadata": {},
   "source": [
    "# Homework\n",
    "- 1\n",
    "![](../Photo/74.png)"
   ]
  },
  {
   "cell_type": "code",
   "execution_count": 55,
   "metadata": {},
   "outputs": [],
   "source": [
    "def wjs_(n):                   # 定义函数,\n",
    "    return n*(3*n-1)/2      \n",
    "def getPentagonalNumber():        # 定义总函数\n",
    "    n=1\n",
    "    count=0\n",
    "    while n <101:\n",
    "        res = int(wjs_(n))        #调用函数\n",
    "        n +=1\n",
    "        count +=1\n",
    "        print(res,end=' ')\n",
    "        if count%10==0:\n",
    "            print('')"
   ]
  },
  {
   "cell_type": "code",
   "execution_count": 56,
   "metadata": {},
   "outputs": [
    {
     "name": "stdout",
     "output_type": "stream",
     "text": [
      "1 5 12 22 35 51 70 92 117 145 \n",
      "176 210 247 287 330 376 425 477 532 590 \n",
      "651 715 782 852 925 1001 1080 1162 1247 1335 \n",
      "1426 1520 1617 1717 1820 1926 2035 2147 2262 2380 \n",
      "2501 2625 2752 2882 3015 3151 3290 3432 3577 3725 \n",
      "3876 4030 4187 4347 4510 4676 4845 5017 5192 5370 \n",
      "5551 5735 5922 6112 6305 6501 6700 6902 7107 7315 \n",
      "7526 7740 7957 8177 8400 8626 8855 9087 9322 9560 \n",
      "9801 10045 10292 10542 10795 11051 11310 11572 11837 12105 \n",
      "12376 12650 12927 13207 13490 13776 14065 14357 14652 14950 \n"
     ]
    }
   ],
   "source": [
    "getPentagonalNumber()"
   ]
  },
  {
   "cell_type": "markdown",
   "metadata": {},
   "source": [
    "- 2 \n",
    "![](../Photo/75.png)"
   ]
  },
  {
   "cell_type": "code",
   "execution_count": 64,
   "metadata": {},
   "outputs": [],
   "source": [
    "def sumDigits(n):\n",
    "    sum = 0\n",
    "    while True:\n",
    "        number = n%10\n",
    "        sum +=number\n",
    "        n = n//10\n",
    "        if n==0:\n",
    "            print(sum)\n",
    "            break"
   ]
  },
  {
   "cell_type": "code",
   "execution_count": 68,
   "metadata": {},
   "outputs": [
    {
     "name": "stdout",
     "output_type": "stream",
     "text": [
      "请输入一个数555\n",
      "15\n"
     ]
    }
   ],
   "source": [
    "sumDigits(n=eval(input('请输入一个数')))"
   ]
  },
  {
   "cell_type": "markdown",
   "metadata": {},
   "source": [
    "- 3\n",
    "![](../Photo/76.png)"
   ]
  },
  {
   "cell_type": "code",
   "execution_count": 38,
   "metadata": {},
   "outputs": [],
   "source": [
    "def displaySortedNumbers(num1,num2,num3):\n",
    "    a =[num1,num2,num3]\n",
    "    num=sorted(a)\n",
    "    print(num)\n",
    "    "
   ]
  },
  {
   "cell_type": "code",
   "execution_count": 39,
   "metadata": {},
   "outputs": [
    {
     "name": "stdout",
     "output_type": "stream",
     "text": [
      "请输入一个数4\n",
      "请输入一个数8\n",
      "请输入一个数1\n",
      "[1, 4, 8]\n"
     ]
    }
   ],
   "source": [
    "#displaySortedNumbers(2,1,5)\n",
    "displaySortedNumbers(num1=eval(input('请输入一个数')),num2=eval(input('请输入一个数')),num3=eval(input('请输入一个数')))"
   ]
  },
  {
   "cell_type": "markdown",
   "metadata": {},
   "source": [
    "- 4\n",
    "![](../Photo/77.png)"
   ]
  },
  {
   "cell_type": "code",
   "execution_count": 58,
   "metadata": {},
   "outputs": [
    {
     "name": "stdout",
     "output_type": "stream",
     "text": [
      "输入本金1000\n",
      "输入年利率9\n",
      "1    1093.8068976709837\n",
      "2    1196.4135293926222\n",
      "3    1308.6453709165366\n",
      "4    1431.4053333137108\n",
      "5    1565.6810269415707\n",
      "6    1712.5527068212796\n",
      "7    1873.2019633462298\n",
      "8    2048.921228238936\n",
      "9    2241.124172232252\n",
      "10    2451.3570781248113\n",
      "11    2681.3112807075076\n",
      "12    2932.8367736408914\n",
      "13    3207.957092751521\n",
      "14    3508.8855954841697\n",
      "15    3838.0432674789427\n",
      "16    4198.078199528149\n",
      "17    4591.886891606074\n",
      "18    5022.637555363697\n",
      "19    5493.79560255814\n",
      "20    6009.151524472612\n",
      "21    6572.851386618251\n",
      "22    7189.430184049334\n",
      "23    7863.848325637133\n",
      "24    8601.531540820313\n",
      "25    9408.414529883785\n",
      "26    10290.98870893479\n",
      "27    11256.354433687085\n",
      "28    12312.278122196296\n",
      "29    13467.254736101859\n",
      "30    14730.576123040439\n"
     ]
    }
   ],
   "source": [
    "def future():\n",
    "    in_ = eval (input(\"输入本金\"))\n",
    "    ratr = eval (input(\"输入年利率\"))\n",
    "    for i in range(1,31):\n",
    "        years = i\n",
    "        future = in_ * (1 + ratr / 100/12) ** (years * 12)\n",
    "        print(str(years)+'    '+str(future))\n",
    "future()"
   ]
  },
  {
   "cell_type": "markdown",
   "metadata": {},
   "source": [
    "- 5\n",
    "![](../Photo/78.png)"
   ]
  },
  {
   "cell_type": "code",
   "execution_count": 43,
   "metadata": {},
   "outputs": [],
   "source": [
    "def printChars(ch1,ch2,number):\n",
    "    arr=['1','2','3','4','5','6','7','8','9','A','B','C','D','E','F','G','H','I','J','K','L','M','N','O','P','Q','R','S','T','U','V','W','X','Y','Z']\n",
    "    d=len(arr)\n",
    "    count =0\n",
    "    i=0\n",
    "    while i<d:\n",
    "        print(arr[i],end= ' ')\n",
    "        i +=1\n",
    "        count += 1\n",
    "        if count % int(number) == 0:\n",
    "            print( )"
   ]
  },
  {
   "cell_type": "code",
   "execution_count": 44,
   "metadata": {},
   "outputs": [
    {
     "name": "stdout",
     "output_type": "stream",
     "text": [
      "1 2 3 4 5 6 7 8 9 A \n",
      "B C D E F G H I J K \n",
      "L M N O P Q R S T U \n",
      "V W X Y Z "
     ]
    }
   ],
   "source": [
    "printChars('1','Z','10')"
   ]
  },
  {
   "cell_type": "markdown",
   "metadata": {},
   "source": [
    "- 6\n",
    "![](../Photo/79.png)"
   ]
  },
  {
   "cell_type": "code",
   "execution_count": 31,
   "metadata": {},
   "outputs": [],
   "source": [
    "def noy(year):\n",
    "    while year<2021:\n",
    "        if ((year%4==0) and (year%100!=0))or (year%400==0):\n",
    "            print(str(year)+'年有366天')\n",
    "        else:\n",
    "            print(str(year)+'年有365天')\n",
    "        year +=1"
   ]
  },
  {
   "cell_type": "code",
   "execution_count": 34,
   "metadata": {},
   "outputs": [
    {
     "name": "stdout",
     "output_type": "stream",
     "text": [
      "2010年有365天\n",
      "2011年有365天\n",
      "2012年有366天\n",
      "2013年有365天\n",
      "2014年有365天\n",
      "2015年有365天\n",
      "2016年有366天\n",
      "2017年有365天\n",
      "2018年有365天\n",
      "2019年有365天\n",
      "2020年有366天\n"
     ]
    }
   ],
   "source": [
    "noy(2010)"
   ]
  },
  {
   "cell_type": "markdown",
   "metadata": {},
   "source": [
    "- 7\n",
    "![](../Photo/80.png)"
   ]
  },
  {
   "cell_type": "code",
   "execution_count": 52,
   "metadata": {},
   "outputs": [],
   "source": [
    "import math \n",
    "def dis(x1,y1,x2,y2):\n",
    "    len_=math.sqrt((x1-x2)**2+(y1-y2)**2)\n",
    "    print(len_)"
   ]
  },
  {
   "cell_type": "code",
   "execution_count": 57,
   "metadata": {
    "scrolled": true
   },
   "outputs": [
    {
     "name": "stdout",
     "output_type": "stream",
     "text": [
      "请输入x1  :0\n",
      "请输入y1  :1\n",
      "请输入x2  :1\n",
      "请输入y2  :0\n",
      "1.4142135623730951\n"
     ]
    }
   ],
   "source": [
    "dis(x1=eval(input('请输入x1  :')),y1=eval(input('请输入y1  :')),x2=eval(input('请输入x2  :')),y2=eval(input('请输入y2  :')))"
   ]
  },
  {
   "cell_type": "markdown",
   "metadata": {},
   "source": [
    "- 8\n",
    "![](../Photo/81.png)"
   ]
  },
  {
   "cell_type": "code",
   "execution_count": 7,
   "metadata": {},
   "outputs": [
    {
     "name": "stdout",
     "output_type": "stream",
     "text": [
      "2 3\n",
      "3 7\n",
      "5 31\n"
     ]
    }
   ],
   "source": [
    "def sushu():\n",
    "    num = 0\n",
    "    for i in range(2,6):\n",
    "        for j in range(2,i):\n",
    "            if i % j == 0 :\n",
    "                break\n",
    "        else :            \n",
    "            num = 2 ** i -1\n",
    "            if num <=31:\n",
    "                print(str(i),end=' ')\n",
    "                print(num)\n",
    "sushu()"
   ]
  },
  {
   "cell_type": "markdown",
   "metadata": {},
   "source": [
    "- 9\n",
    "![](../Photo/82.png)\n",
    "![](../Photo/83.png)"
   ]
  },
  {
   "cell_type": "code",
   "execution_count": 16,
   "metadata": {},
   "outputs": [
    {
     "name": "stdout",
     "output_type": "stream",
     "text": [
      "1536921343.9032257秒\n",
      "Fri Sep 14 18:35:43 2018\n"
     ]
    }
   ],
   "source": [
    "import time \n",
    "def date_():\n",
    "    print(str(time.time())+'秒')\n",
    "    print (time.asctime( time.localtime(time.time()) ))\n",
    "date_()"
   ]
  },
  {
   "cell_type": "markdown",
   "metadata": {},
   "source": [
    "- 10\n",
    "![](../Photo/84.png)"
   ]
  },
  {
   "cell_type": "code",
   "execution_count": 37,
   "metadata": {
    "scrolled": false
   },
   "outputs": [
    {
     "name": "stdout",
     "output_type": "stream",
     "text": [
      "你掷的骰子数为：1+5=6  狭路相逢，难分胜负，进入对局\n",
      "恭喜，你tm赢了\n"
     ]
    }
   ],
   "source": [
    "import random\n",
    "\n",
    "while True:\n",
    "    sum_=0\n",
    "    i= random.randrange(1,7)\n",
    "    j= random.randrange(1,7)\n",
    "    sum_ = i+j\n",
    "    if (sum_ == 2) or (sum_ == 3) or (sum_==12):\n",
    "        print('你掷的骰子数为：'+str(i)+'+'+str(j)+'='+str(sum_)+'  你输了')\n",
    "        break\n",
    "    elif(sum_==7) or (sum_==11):\n",
    "        print('你掷的骰子数为：'+str(i)+'+'+str(j)+'='+str(sum_)+'  你赢了')\n",
    "        break\n",
    "    else:\n",
    "        count=sum_\n",
    "        print('你掷的骰子数为：'+str(i)+'+'+str(j)+'='+str(sum_)+'  狭路相逢，难分胜负，进入对局')\n",
    "        i= random.randrange(1,7)\n",
    "        j= random.randrange(1,7)\n",
    "        sum_f=i+j\n",
    "        if (sum_==7)or(sum_==7):\n",
    "            print('抱歉，你tm输了')\n",
    "            break\n",
    "        else :\n",
    "            print('恭喜，你tm赢了')\n",
    "            break"
   ]
  },
  {
   "cell_type": "markdown",
   "metadata": {},
   "source": [
    "- 11 \n",
    "### 去网上寻找如何用Python代码发送邮件"
   ]
  }
 ],
 "metadata": {
  "kernelspec": {
   "display_name": "Python 3",
   "language": "python",
   "name": "python3"
  },
  "language_info": {
   "codemirror_mode": {
    "name": "ipython",
    "version": 3
   },
   "file_extension": ".py",
   "mimetype": "text/x-python",
   "name": "python",
   "nbconvert_exporter": "python",
   "pygments_lexer": "ipython3",
   "version": "3.6.4"
  }
 },
 "nbformat": 4,
 "nbformat_minor": 2
}
