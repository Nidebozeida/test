{
 "cells": [
  {
   "cell_type": "markdown",
   "metadata": {},
   "source": [
    "# 对象和类\n",
    "- 一个学生，一张桌子，一个圆都是对象\n",
    "- 对象是类的一个实例，你可以创建多个对象，创建类的一个实例过程被称为实例化，\n",
    "- 在Python中对象就是实例，而实例就是对象"
   ]
  },
  {
   "cell_type": "markdown",
   "metadata": {},
   "source": [
    "## 定义类\n",
    "class ClassName:\n",
    "\n",
    "    do something\n",
    "    \n",
    "- class 类的表示与def 一样\n",
    "- 类名最好使用驼峰式\n",
    "- 在Python2中类是需要继承基类object的，在Python中默认继承，可写可不写\n",
    "- 可以将普通代码理解为皮肤，而函数可以理解为内衣，那么类可以理解为外套"
   ]
  },
  {
   "cell_type": "markdown",
   "metadata": {},
   "source": [
    "## 定义一个不含初始化__init__的简单类\n",
    "class ClassName:\n",
    "\n",
    "    joker = “Home”\n",
    "    \n",
    "    def func():\n",
    "        print('Worker')\n",
    "    \n",
    "- 尽量少使用"
   ]
  },
  {
   "cell_type": "code",
   "execution_count": 3,
   "metadata": {
    "scrolled": true
   },
   "outputs": [],
   "source": [
    "import pygame\n",
    "class Music:                    #定义类\n",
    "    def play():\n",
    "        pygame.mixer.init()\n",
    "        print(\"播放音乐\")\n",
    "        track1=pygame.mixer.music.load(\"C:/Users/AmmmmMAN/Music/Aloha+Heja+He+-+Achim+Reichel.mp3\")\n",
    "        pygame.mixer.music.play()"
   ]
  },
  {
   "cell_type": "code",
   "execution_count": 2,
   "metadata": {},
   "outputs": [
    {
     "name": "stdout",
     "output_type": "stream",
     "text": [
      "播放音乐2\n"
     ]
    }
   ],
   "source": [
    "Music.play()"
   ]
  },
  {
   "cell_type": "markdown",
   "metadata": {},
   "source": [
    "## 定义一个标准类\n",
    "- __init__ 代表初始化，可以初始化任何动作\n",
    "- 此时类调用要使用()，其中（）可以理解为开始初始化\n",
    "- 初始化内的元素，类中其他的函数可以共享\n",
    "![](../Photo/85.png)"
   ]
  },
  {
   "cell_type": "code",
   "execution_count": 27,
   "metadata": {},
   "outputs": [],
   "source": [
    "#第一种方法\n",
    "class Study:\n",
    "    def __init__(self):           #创建初始函数\n",
    "        self.num=2\n",
    "    def fun1(self):\n",
    "        self.n=self.num ** 3    \n",
    "        print(str(self.num)+'的三次方为',self.n)\n",
    "    def fun2(self):\n",
    "        self.m=self.num ** 2\n",
    "        print(str(self.num)+'的二次方为',self.m)\n",
    "    def fun3(self):\n",
    "        self.fun1()\n",
    "        self.fun2()\n",
    "        print('差为',self.n-self.m)"
   ]
  },
  {
   "cell_type": "code",
   "execution_count": 28,
   "metadata": {
    "scrolled": true
   },
   "outputs": [
    {
     "name": "stdout",
     "output_type": "stream",
     "text": [
      "2的三次方为 8\n",
      "2的二次方为 4\n",
      "差为 4\n"
     ]
    }
   ],
   "source": [
    "A = Study()     #创建一个实例，A是初始完毕之后的结果\n",
    "A.fun3()"
   ]
  },
  {
   "cell_type": "code",
   "execution_count": 41,
   "metadata": {},
   "outputs": [],
   "source": [
    "#第二种方法\n",
    "class Study:\n",
    "    def __init__(self):           #创建初始函数\n",
    "        self.num=2\n",
    "    def fun1(self):\n",
    "        self.n=self.num ** 3    \n",
    "        print(str(self.num)+'的三次方为',self.n)\n",
    "    def fun2(self):\n",
    "        self.m=self.num ** 2\n",
    "        print(str(self.num)+'的二次方为',self.m)\n",
    "    def fun3(self):\n",
    "        print('差为',self.n-self.m)"
   ]
  },
  {
   "cell_type": "code",
   "execution_count": 42,
   "metadata": {},
   "outputs": [
    {
     "name": "stdout",
     "output_type": "stream",
     "text": [
      "2的三次方为 8\n",
      "2的二次方为 4\n",
      "差为 4\n"
     ]
    }
   ],
   "source": [
    "A = Study()     #创建一个实例，A是初始完毕之后的结果\n",
    "A.fun1()\n",
    "A.fun2()\n",
    "A.fun3()"
   ]
  },
  {
   "cell_type": "code",
   "execution_count": 47,
   "metadata": {},
   "outputs": [],
   "source": [
    "#第三种方法\n",
    "class Study:\n",
    "    def __init__(self):           #创建初始函数\n",
    "        self.num=2\n",
    "    def fun1(self):\n",
    "        n=self.num ** 3  \n",
    "        return n\n",
    "    def fun2(self):\n",
    "        m=self.num ** 2\n",
    "        return m\n",
    "    def fun3(self):\n",
    "        n1=self.fun1()\n",
    "        m1=self.fun2()\n",
    "        print('差为',n1-m1)"
   ]
  },
  {
   "cell_type": "code",
   "execution_count": 48,
   "metadata": {},
   "outputs": [
    {
     "name": "stdout",
     "output_type": "stream",
     "text": [
      "差为 4\n"
     ]
    }
   ],
   "source": [
    "Study().fun3()     #创建一个实例，A是初始完毕之后的结果"
   ]
  },
  {
   "cell_type": "markdown",
   "metadata": {},
   "source": [
    "- Circle 和 className_ 的第一个区别有 __init__ 这个函数\n",
    "- 。。。。   第二个区别，类中的每一个函数都有self的这个“参数”"
   ]
  },
  {
   "cell_type": "markdown",
   "metadata": {},
   "source": [
    "## 何为self？\n",
    "- self 是指向对象本身的参数\n",
    "- self 只是一个命名规则，其实可以改变的，但是我们约定俗成的是self，也便于理解\n",
    "- 使用了self就可以访问类中定义的成员\n",
    "<img src=\"../Photo/86.png\"></img>"
   ]
  },
  {
   "cell_type": "markdown",
   "metadata": {},
   "source": [
    "## 使用类 Cirlcle"
   ]
  },
  {
   "cell_type": "markdown",
   "metadata": {},
   "source": [
    "## 类的传参\n",
    "- class ClassName:\n",
    "    \n",
    "        def __init__(self, para1,para2...)：\n",
    "            \n",
    "            self.para1 = para1\n",
    "            \n",
    "            self.para2 = para2"
   ]
  },
  {
   "cell_type": "code",
   "execution_count": 44,
   "metadata": {},
   "outputs": [],
   "source": [
    "class Study:\n",
    "    def __init__(self,num1):           #创建初始函数,传参也在初始化函数中进行\n",
    "        self.num=num1\n",
    "    def fun1(self):\n",
    "        self.n=self.num ** 3    \n",
    "        print(str(self.num)+'的三次方为',self.n)\n",
    "    def fun2(self):\n",
    "        self.m=self.num ** 2\n",
    "        print(str(self.num)+'的二次方为',self.m)\n",
    "    def fun3(self):\n",
    "        self.fun1()\n",
    "        self.fun2()\n",
    "        print('差为',self.n-self.m)"
   ]
  },
  {
   "cell_type": "code",
   "execution_count": 46,
   "metadata": {
    "scrolled": true
   },
   "outputs": [
    {
     "name": "stdout",
     "output_type": "stream",
     "text": [
      "2的三次方为 8\n",
      "2的二次方为 4\n",
      "差为 4\n"
     ]
    }
   ],
   "source": [
    "Study(num1=2).fun3()  #创建一个实例，A是初始完毕之后的结果"
   ]
  },
  {
   "cell_type": "markdown",
   "metadata": {},
   "source": [
    "## EP:\n",
    "- A：定义一个类，类中含有两个功能：\n",
    "    - 1、计算随机数的最大值\n",
    "    - 2、计算随机数的最小值\n",
    "- B：定义一个类，（类中函数的嵌套使用）\n",
    "    - 1、第一个函数的功能为：输入一个数字\n",
    "    - 2、第二个函数的功能为：使用第一个函数中得到的数字进行平方处理\n",
    "    - 3、第三个函数的功能为：得到平方处理后的数字 - 原来输入的数字，并打印结果"
   ]
  },
  {
   "cell_type": "code",
   "execution_count": 107,
   "metadata": {},
   "outputs": [],
   "source": [
    "import random\n",
    "class Random:\n",
    "    def __init__(self,num1,num2):\n",
    "        self.n=num1\n",
    "        self.m=num2\n",
    "        print('俩个数字分别为'+str(self.n)+'和'+str(self.m))\n",
    "    def fun1(self):\n",
    "        if self.n<self.m:\n",
    "            print('最大值为'+str(self.m)+'最小值为'+str(self.n))\n",
    "        else:\n",
    "            print('最大值为'+str(self.n)+'，最小值为'+str(self.m))"
   ]
  },
  {
   "cell_type": "code",
   "execution_count": 119,
   "metadata": {
    "scrolled": true
   },
   "outputs": [
    {
     "name": "stdout",
     "output_type": "stream",
     "text": [
      "俩个数字分别为8和4\n",
      "最大值为8，最小值为4\n"
     ]
    }
   ],
   "source": [
    "import random\n",
    "Random(num1=random.randint(1,9),num2=random.randint(1,9)).fun1()  #创建一个实例，A是初始完毕之后的结果"
   ]
  },
  {
   "cell_type": "code",
   "execution_count": 153,
   "metadata": {},
   "outputs": [
    {
     "name": "stdout",
     "output_type": "stream",
     "text": [
      "-4\n"
     ]
    }
   ],
   "source": [
    "#单类继承.........\n",
    "class Study:    #创建类\n",
    "    def __init__(self,num1,num2):\n",
    "        self.n=num1\n",
    "        self.m=num2\n",
    "        self.res1=None\n",
    "        self.res2=None\n",
    "    def p2_p3(self):\n",
    "        self.res1 = self.n ** 2\n",
    "        self.res2 = self.m ** 3\n",
    "class Jisuan(Study):        #创建类并继承父类\n",
    "    def __init__(self,num1,num2):\n",
    "        Study.__init__(self,num1,num2)       #继承父类的初始化函数\n",
    "    def show(self):\n",
    "        print(self.res1- self.res2)\n",
    "A = Jisuan(2,2)\n",
    "A.p2_p3()\n",
    "A.show()"
   ]
  },
  {
   "cell_type": "code",
   "execution_count": 158,
   "metadata": {},
   "outputs": [
    {
     "name": "stdout",
     "output_type": "stream",
     "text": [
      "-4\n"
     ]
    }
   ],
   "source": [
    "#多类继承........\n",
    "class One: #创建类\n",
    "    '''\n",
    "    This is .......\n",
    "    '''\n",
    "    def __init__(self,num1):\n",
    "        self.n=num1\n",
    "        self.res1=None\n",
    "    def p2(self):\n",
    "        self.res1 = self.n ** 2\n",
    "class Two: #创建类\n",
    "    def __init__(self,num2):\n",
    "        self.m=num2\n",
    "        self.res2=None\n",
    "    def p3(self):\n",
    "        self.res2 = self.m ** 3\n",
    "class Jisuan(One,Two):        #创建类并继承父类\n",
    "    def __init__(self,num1,num2):    #定义自己类的初始化函数\n",
    "        One.__init__(self,num1)       #继承父类的初始化函数\n",
    "        Two.__init__(self,num2)\n",
    "    def show(self):\n",
    "        print(self.res1- self.res2)\n",
    "A = Jisuan(2,2)\n",
    "A.p2()\n",
    "A.p3()\n",
    "A.show()"
   ]
  },
  {
   "cell_type": "markdown",
   "metadata": {},
   "source": [
    "## 类的继承\n",
    "- 类的单继承\n",
    "- 类的多继承\n",
    "- 继承标识\n",
    ">  class SonClass(FatherClass):\n",
    "            \n",
    "            def __init__(self):\n",
    "            \n",
    "                FatherClass.__init__(self)"
   ]
  },
  {
   "cell_type": "markdown",
   "metadata": {},
   "source": [
    "## 私有数据域(私有变量，或者私有函数)\n",
    "- 在Python中 变量名或者函数名使用双下划线代表私有  \\__Joker,   def \\__Joker():\n",
    "- 私有数据域不可继承\n",
    "- 私有数据域强制继承   \\__dir__()"
   ]
  },
  {
   "cell_type": "code",
   "execution_count": 167,
   "metadata": {},
   "outputs": [
    {
     "name": "stdout",
     "output_type": "stream",
     "text": [
      "<!DOCTYPE html>\r\n",
      "<!--STATUS OK--><html> <head><meta http-equiv=content-type content=text/html;charset=utf-8><meta http-equiv=X-UA-Compatible content=IE=Edge><meta content=always name=referrer><link rel=stylesheet type=text/css href=http://s1.bdstatic.com/r/www/cache/bdorz/baidu.min.css><title>百度一下，你就知道</title></head> <body link=#0000cc> <div id=wrapper> <div id=head> <div class=head_wrapper> <div class=s_form> <div class=s_form_wrapper> <div id=lg> <img hidefocus=true src=//www.baidu.com/img/bd_logo1.png width=270 height=129> </div> <form id=form name=f action=//www.baidu.com/s class=fm> <input type=hidden name=bdorz_come value=1> <input type=hidden name=ie value=utf-8> <input type=hidden name=f value=8> <input type=hidden name=rsv_bp value=1> <input type=hidden name=rsv_idx value=1> <input type=hidden name=tn value=baidu><span class=\"bg s_ipt_wr\"><input id=kw name=wd class=s_ipt value maxlength=255 autocomplete=off autofocus></span><span class=\"bg s_btn_wr\"><input type=submit id=su value=百度一下 class=\"bg s_btn\"></span> </form> </div> </div> <div id=u1> <a href=http://news.baidu.com name=tj_trnews class=mnav>新闻</a> <a href=http://www.hao123.com name=tj_trhao123 class=mnav>hao123</a> <a href=http://map.baidu.com name=tj_trmap class=mnav>地图</a> <a href=http://v.baidu.com name=tj_trvideo class=mnav>视频</a> <a href=http://tieba.baidu.com name=tj_trtieba class=mnav>贴吧</a> <noscript> <a href=http://www.baidu.com/bdorz/login.gif?login&amp;tpl=mn&amp;u=http%3A%2F%2Fwww.baidu.com%2f%3fbdorz_come%3d1 name=tj_login class=lb>登录</a> </noscript> <script>document.write('<a href=\"http://www.baidu.com/bdorz/login.gif?login&tpl=mn&u='+ encodeURIComponent(window.location.href+ (window.location.search === \"\" ? \"?\" : \"&\")+ \"bdorz_come=1\")+ '\" name=\"tj_login\" class=\"lb\">登录</a>');</script> <a href=//www.baidu.com/more/ name=tj_briicon class=bri style=\"display: block;\">更多产品</a> </div> </div> </div> <div id=ftCon> <div id=ftConw> <p id=lh> <a href=http://home.baidu.com>关于百度</a> <a href=http://ir.baidu.com>About Baidu</a> </p> <p id=cp>&copy;2017&nbsp;Baidu&nbsp;<a href=http://www.baidu.com/duty/>使用百度前必读</a>&nbsp; <a href=http://jianyi.baidu.com/ class=cp-feedback>意见反馈</a>&nbsp;京ICP证030173号&nbsp; <img src=//www.baidu.com/img/gs.gif> </p> </div> </div> </div> </body> </html>\r\n",
      "\n"
     ]
    },
    {
     "data": {
      "text/plain": [
       "' '"
      ]
     },
     "execution_count": 167,
     "metadata": {},
     "output_type": "execute_result"
    }
   ],
   "source": [
    "import requests\n",
    "import re\n",
    "url = 'http://www.baidu.com'\n",
    "response = requests.get(url)\n",
    "response.encoding = 'utf8'\n",
    "html = response.text\n",
    "print(html)\n",
    "res = re.search('name=tj_trvideo(.?)',html)\n",
    "res.group(1)"
   ]
  },
  {
   "cell_type": "markdown",
   "metadata": {},
   "source": [
    "![](../Photo/87.png)"
   ]
  },
  {
   "cell_type": "markdown",
   "metadata": {},
   "source": [
    "## EP:\n",
    "![](../Photo/88.png)\n",
    "![](../Photo/89.png)\n",
    "![](../Photo/90.png)\n"
   ]
  },
  {
   "cell_type": "markdown",
   "metadata": {},
   "source": [
    "## 类的其他\n",
    "- 类的封装\n",
    "    - 实际上就是将一类功能放在一起，方便未来进行管理\n",
    "- 类的继承（上面已经讲过）\n",
    "- 类的多态\n",
    "    - 包括装饰器：将放在以后处理高级类中教\n",
    "    - 装饰器的好处：当许多类中的函数需要使用同一个功能的时候，那么使用装饰器就会方便许多\n",
    "    - 装饰器是有固定的写法\n",
    "        - 其包括普通装饰器与带参装饰器"
   ]
  },
  {
   "cell_type": "markdown",
   "metadata": {},
   "source": [
    "# Homewor\n",
    "## UML类图可以不用画\n",
    "## UML 实际上就是一个思维图\n",
    "- 1\n",
    "![](../Photo/91.png)"
   ]
  },
  {
   "cell_type": "code",
   "execution_count": 292,
   "metadata": {},
   "outputs": [],
   "source": [
    "class Re:\n",
    "    def __init__(self,weight=1,height=2):\n",
    "        self.w = weight\n",
    "        self.h = height    \n",
    "    def getArea(self):\n",
    "        self.res = self.w * self.h\n",
    "        return self.res \n",
    "    def getPerimeter(self):\n",
    "        self.res1 = (self.w + self.h)*2 \n",
    "        return self.res1\n",
    "    def show(self):\n",
    "        area =self.getArea()\n",
    "        per =self.getPerimeter()\n",
    "        print('长为' + str(self.h)+'宽为' + str(self.w))\n",
    "        print('面积为'+str(area))\n",
    "        print('周长为'+str(per))\n"
   ]
  },
  {
   "cell_type": "code",
   "execution_count": 296,
   "metadata": {},
   "outputs": [
    {
     "name": "stdout",
     "output_type": "stream",
     "text": [
      "长为2宽为1\n",
      "面积为2\n",
      "周长为6\n"
     ]
    }
   ],
   "source": [
    "A=Re()\n",
    "A.show()"
   ]
  },
  {
   "cell_type": "code",
   "execution_count": 293,
   "metadata": {
    "scrolled": true
   },
   "outputs": [
    {
     "name": "stdout",
     "output_type": "stream",
     "text": [
      "长为40宽为4\n",
      "面积为160\n",
      "周长为88\n"
     ]
    }
   ],
   "source": [
    "A=Re(4,40)\n",
    "A.show()"
   ]
  },
  {
   "cell_type": "code",
   "execution_count": 294,
   "metadata": {},
   "outputs": [
    {
     "name": "stdout",
     "output_type": "stream",
     "text": [
      "长为35.7宽为3.5\n",
      "面积为124.95000000000002\n",
      "周长为78.4\n"
     ]
    }
   ],
   "source": [
    "A=Re(3.5,35.7)\n",
    "A.show()"
   ]
  },
  {
   "cell_type": "markdown",
   "metadata": {},
   "source": [
    "- 2\n",
    "![](../Photo/92.png)"
   ]
  },
  {
   "cell_type": "code",
   "execution_count": 323,
   "metadata": {},
   "outputs": [],
   "source": [
    "class Account():\n",
    "    def __init__(self, id = 0, balance = 100, annualinterestRate = 0):\n",
    "        self.__id = id\n",
    "        self.__balance = balance\n",
    "        self.__annualinterestRate = annualinterestRate\n",
    "    def getId(self):       #定义ID\n",
    "        id_ = self.__id\n",
    "        return id_ \n",
    "    def getBalance(self):   #定义余额\n",
    "        bl = self.__balance\n",
    "        return bl\n",
    "    def getAn(self):      #定义年利率\n",
    "        ann = self.__annualinterestRate\n",
    "        return ann\n",
    "    \n",
    "    def getMonthlyInterestRate(self):         #定义月利率\n",
    "        mir = self.__annualinterestRate / 1200\n",
    "        return mir\n",
    "    def getMonthlyInterest(self):       #定义月利息\n",
    "        monthlyInterestRate = self.getMonthlyInterestRate()\n",
    "        return self.__balance * monthlyInterestRate\n",
    "    \n",
    "    def withdraw(self, a):\n",
    "        self.__balance -= a\n",
    "    def deposit(self, b):\n",
    "        self.__balance += b"
   ]
  },
  {
   "cell_type": "code",
   "execution_count": 326,
   "metadata": {},
   "outputs": [
    {
     "name": "stdout",
     "output_type": "stream",
     "text": [
      "用户id为1122账户余额20500\n",
      "月利率为0.00375\n",
      "月利息为76.875\n"
     ]
    }
   ],
   "source": [
    "account = Account(1122, 20000, 4.5)\n",
    "account.withdraw(2500)\n",
    "account.deposit(3000)\n",
    "print('用户id为'+str(account.getId())+'账户余额'+str(account.getBalance()))\n",
    "print('月利率为'+str(account.getMonthlyInterestRate()))\n",
    "print('月利息为'+str(account.getMonthlyInterest()))\n"
   ]
  },
  {
   "cell_type": "markdown",
   "metadata": {},
   "source": [
    "- 3\n",
    "![](../Photo/93.png)"
   ]
  },
  {
   "cell_type": "code",
   "execution_count": 320,
   "metadata": {},
   "outputs": [],
   "source": [
    "class Fan:\n",
    "    def __init__(self, speed = 1, on = False, radius = 5, color = 'blue'):\n",
    "        self.__speed = 'SLOW'\n",
    "        if speed == 1:\n",
    "            self.__speed = 'SLOW'\n",
    "        elif speed == 2:\n",
    "            self.__speed = 'MEDIUM'\n",
    "        else:\n",
    "            self.__speed = 'FAST'\n",
    "        self.__on = on\n",
    "        self.__radius = radius \n",
    "        self.__color = color\n",
    "    def getSpeed(self):     #速度\n",
    "        s = self.__speed\n",
    "        return s\n",
    "    def getOn(self):        #开关\n",
    "        o = self.__on\n",
    "        return o\n",
    "    def getRadius(self):     #半径\n",
    "        r = self.__radius\n",
    "        return r\n",
    "    def getColor(self):     #颜色\n",
    "        c=self.__color \n",
    "        return c\n"
   ]
  },
  {
   "cell_type": "code",
   "execution_count": 321,
   "metadata": {},
   "outputs": [
    {
     "name": "stdout",
     "output_type": "stream",
     "text": [
      "速度为  FAST\n",
      "半径为  10\n",
      "颜色为  yellow\n",
      "开关  True\n"
     ]
    }
   ],
   "source": [
    "F = Fan(3, True, 10, 'yellow')\n",
    "print('速度为 ', F.getSpeed())\n",
    "print('半径为 ', F.getRadius())\n",
    "print('颜色为 ', F.getColor())\n",
    "print('开关 ', F.getOn())"
   ]
  },
  {
   "cell_type": "code",
   "execution_count": 322,
   "metadata": {},
   "outputs": [
    {
     "name": "stdout",
     "output_type": "stream",
     "text": [
      "速度为  MEDIUM\n",
      "半径为  5\n",
      "颜色为  blue\n",
      "开关  True\n"
     ]
    }
   ],
   "source": [
    "F = Fan(2, True, 5, 'blue')\n",
    "print('速度为 ', F.getSpeed())\n",
    "print('半径为 ', F.getRadius())\n",
    "print('颜色为 ', F.getColor())\n",
    "print('开关 ', F.getOn())"
   ]
  },
  {
   "cell_type": "markdown",
   "metadata": {},
   "source": [
    "- 4\n",
    "![](../Photo/94.png)\n",
    "![](../Photo/95.png)"
   ]
  },
  {
   "cell_type": "code",
   "execution_count": 313,
   "metadata": {},
   "outputs": [],
   "source": [
    "import math\n",
    "class RegularPolygon():\n",
    "    def __init__(self,n=3,side=1,x=0,y=0):\n",
    "        self.__n=n\n",
    "        self.__side=side\n",
    "        self.__x=x\n",
    "        self.__y=y\n",
    "    def getPerimeter(self):\n",
    "        round_ = self.__n*self.__side\n",
    "        return round_\n",
    "    def getArea(self):\n",
    "        area = self.__n*(self.__side**2)/(4*math.tan(math.pi/self.__n))\n",
    "        return area \n",
    "    def show(self):\n",
    "        a =self.getArea()\n",
    "        p =self.getPerimeter()\n",
    "        print('它的周长为',p)\n",
    "        print('它的面积为',a)"
   ]
  },
  {
   "cell_type": "code",
   "execution_count": 314,
   "metadata": {
    "scrolled": true
   },
   "outputs": [
    {
     "name": "stdout",
     "output_type": "stream",
     "text": [
      "它的周长为 3\n",
      "它的面积为 0.43301270189221946\n"
     ]
    }
   ],
   "source": [
    "R = RegularPolygon()\n",
    "R.show()"
   ]
  },
  {
   "cell_type": "code",
   "execution_count": 315,
   "metadata": {
    "scrolled": true
   },
   "outputs": [
    {
     "name": "stdout",
     "output_type": "stream",
     "text": [
      "它的周长为 24\n",
      "它的面积为 41.569219381653056\n"
     ]
    }
   ],
   "source": [
    "R = RegularPolygon(6,4)\n",
    "R.show()"
   ]
  },
  {
   "cell_type": "code",
   "execution_count": 316,
   "metadata": {},
   "outputs": [
    {
     "name": "stdout",
     "output_type": "stream",
     "text": [
      "它的周长为 40\n",
      "它的面积为 123.10734148701015\n"
     ]
    }
   ],
   "source": [
    "R = RegularPolygon(10,4,5.6,7.8)\n",
    "R.show()"
   ]
  },
  {
   "cell_type": "markdown",
   "metadata": {},
   "source": [
    "- 5\n",
    "![](../Photo/96.png)"
   ]
  },
  {
   "cell_type": "code",
   "execution_count": 342,
   "metadata": {},
   "outputs": [],
   "source": [
    "class LinuarEq():\n",
    "    def __init__(self,a,b,c,d,e,f):\n",
    "        self.__a = a\n",
    "        self.__b = b\n",
    "        self.__c = c\n",
    "        self.__d = d\n",
    "        self.__e = e\n",
    "        self.__f = f\n",
    "    def getA(self):\n",
    "        A = self.__a\n",
    "        return A\n",
    "    def getA(self):\n",
    "        B = self.__b\n",
    "        return B\n",
    "    def getA(self):\n",
    "        C = self.__c\n",
    "        return C\n",
    "    def getA(self):\n",
    "        D = self.__d\n",
    "        return D\n",
    "    def getA(self):\n",
    "        E = self.__e\n",
    "        return E\n",
    "    def getA(self):\n",
    "        F = self.__f\n",
    "        return F\n",
    "    def isSolvable():\n",
    "        if self.__a*self.__d != self.__b*self.__c :\n",
    "            return True\n",
    "        else:\n",
    "            return False\n",
    "    def getX(self):\n",
    "        x=(self.__e*self.__d - self.__b*self.__f)/(self.__a * self.__d - self.__b * self.__c)\n",
    "        return x\n",
    "    def getY(self):\n",
    "        y=(self.__a*self.__f - self.__e*self.__c)/(self.__a * self.__d - self.__b * self.__c)\n",
    "        return y\n"
   ]
  },
  {
   "cell_type": "code",
   "execution_count": 343,
   "metadata": {
    "scrolled": true
   },
   "outputs": [
    {
     "name": "stdout",
     "output_type": "stream",
     "text": [
      "a:1\n",
      "b:2\n",
      "c:3\n",
      "d:4\n",
      "e:5\n",
      "f:6\n",
      "这个方程式无解\n"
     ]
    }
   ],
   "source": [
    "L =LinuarEq( a = eval(input('请输入a:')),b = eval(input('请输入b:')),c = eval(input('请输入c:')),d = eval(input('请输入d:')),e = eval(input('请输入e:')),f = eval(input('请输入f:')))\n",
    "if LinuarEq.isSolvable== True :\n",
    "    print('这个方程式的解为'+str(L.getX+str(L.getY)\n",
    "else:\n",
    "    print('这个方程式无解')\n",
    "    "
   ]
  },
  {
   "cell_type": "markdown",
   "metadata": {},
   "source": [
    "- 6\n",
    "![](../Photo/97.png)"
   ]
  },
  {
   "cell_type": "code",
   "execution_count": 355,
   "metadata": {},
   "outputs": [],
   "source": [
    "class LinEq():\n",
    "    def __init__(self,x1,y1,x2,y2,x3,y3,x4,y4):\n",
    "        self.__x1=x1\n",
    "        self.__y1=y1\n",
    "        self.__x2=x2\n",
    "        self.__y2=y2\n",
    "        self.__x3=x3\n",
    "        self.__y3=y3\n",
    "        self.__x4=x4\n",
    "        self.__y4=y4\n",
    "    def K_o(self):\n",
    "        k1 = (self.__y2-self.__y1)/(self.__x2-self.__x1)\n",
    "        return k1\n",
    "    def b_o(self):\n",
    "        b1=(self.__y2-self.__y1)/((self.__x2-self.__x1)*(self.__y2-self.__y1)/(self.__x2-self.__x1))\n",
    "        return b1\n",
    "    def K_t(self):\n",
    "        k2 = (self.__y4-self.__y3)/(self.__x4-self.__x3)\n",
    "        return k2\n",
    "    def b_t(self):\n",
    "        b2=(self.__y4-self.__y3)/((self.__x4-self.__x3)*(self.__y4-self.__y3)/(self.__x4-self.__x3))\n",
    "        return b2\n",
    "    def X_jd(self):\n",
    "        x = (((self.__y4-self.__y3)/((self.__x4-self.__x3)*(self.__y4-self.__y3)/(self.__x4-self.__x3)))-((self.__y2-self.__y1)/((self.__x2-self.__x1)*(self.__y2-self.__y1)/(self.__x2-self.__x1)))) / (((self.__y2-self.__y1)/(self.__x2-self.__x1))-((self.__y4-self.__y3)/(self.__x4-self.__x3)))\n",
    "        return x\n",
    "    def Y_jd(self):\n",
    "        y = ((((self.__y4-self.__y3)/((self.__x4-self.__x3)*(self.__y4-self.__y3)/(self.__x4-self.__x3)))-((self.__y2-self.__y1)/((self.__x2-self.__x1)*(self.__y2-self.__y1)/(self.__x2-self.__x1)))) / (((self.__y2-self.__y1)/(self.__x2-self.__x1))-((self.__y4-self.__y3)/(self.__x4-self.__x3)))) * ((self.__y2-self.__y1)/(self.__x2-self.__x1)) + (self.__y2-self.__y1)/((self.__x2-self.__x1)*(self.__y2-self.__y1)/(self.__x2-self.__x1))\n",
    "        return y\n",
    "    def show(self):\n",
    "        xx= self.X_jd()\n",
    "        yy = self.Y_jd()"
   ]
  },
  {
   "cell_type": "code",
   "execution_count": 356,
   "metadata": {},
   "outputs": [],
   "source": [
    "L=LinEq(2.0,2.0,0,0,0,2.0,2.0,0)\n",
    "L.show()"
   ]
  },
  {
   "cell_type": "markdown",
   "metadata": {},
   "source": [
    "- 7\n",
    "![](../Photo/98.png)"
   ]
  },
  {
   "cell_type": "code",
   "execution_count": null,
   "metadata": {},
   "outputs": [],
   "source": []
  }
 ],
 "metadata": {
  "kernelspec": {
   "display_name": "Python 3",
   "language": "python",
   "name": "python3"
  },
  "language_info": {
   "codemirror_mode": {
    "name": "ipython",
    "version": 3
   },
   "file_extension": ".py",
   "mimetype": "text/x-python",
   "name": "python",
   "nbconvert_exporter": "python",
   "pygments_lexer": "ipython3",
   "version": "3.6.4"
  }
 },
 "nbformat": 4,
 "nbformat_minor": 2
}
