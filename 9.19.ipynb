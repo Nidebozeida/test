{
 "cells": [
  {
   "cell_type": "markdown",
   "metadata": {},
   "source": [
    "# 列表List\n",
    "- 一个列表可以储存任意大小的数据集合，你可以理解为他是一个容器"
   ]
  },
  {
   "cell_type": "markdown",
   "metadata": {},
   "source": [
    "## 先来一个例子爽一爽\n",
    "![](../Photo/115.png)"
   ]
  },
  {
   "cell_type": "code",
   "execution_count": null,
   "metadata": {},
   "outputs": [],
   "source": [
    "n = 5\n",
    "number = []\n",
    "sum = 0\n",
    "for i in range(n):\n",
    "    value = eval(input())\n",
    "    number.append(value)\n",
    "    sum +=value\n",
    "    \n",
    "average = sum / n\n",
    "count = 0\n",
    "for i in range(n):\n",
    "    if number[i] > average:\n",
    "        count +=1\n",
    "print('average is ',average)\n",
    "print('n',count)"
   ]
  },
  {
   "cell_type": "markdown",
   "metadata": {},
   "source": [
    "## 创建一个列表\n",
    "- a = [1,2,3,4,5]"
   ]
  },
  {
   "cell_type": "markdown",
   "metadata": {},
   "source": [
    "## 列表的一般操作\n",
    "![](../Photo/116.png)"
   ]
  },
  {
   "cell_type": "markdown",
   "metadata": {},
   "source": [
    "## 列表索引操作\n",
    "- Mylist[index]\n",
    "- 正序索引，逆序索引\n",
    "- 列表一定注意越界\n",
    "- ![](../Photo/117.png)"
   ]
  },
  {
   "cell_type": "markdown",
   "metadata": {},
   "source": [
    "## 列表切片操作\n",
    "- Mylist[start:end]\n",
    "- 正序切片，逆序切片"
   ]
  },
  {
   "cell_type": "markdown",
   "metadata": {},
   "source": [
    "## 列表 +、*、in 、not in"
   ]
  },
  {
   "cell_type": "markdown",
   "metadata": {},
   "source": [
    "## 使用for循环遍历元素\n",
    "- for 循环可以遍历一切可迭代元素"
   ]
  },
  {
   "cell_type": "markdown",
   "metadata": {},
   "source": [
    "## EP：\n",
    "- 使用while 循环遍历列表"
   ]
  },
  {
   "cell_type": "code",
   "execution_count": 3,
   "metadata": {},
   "outputs": [
    {
     "name": "stdout",
     "output_type": "stream",
     "text": [
      "1\n",
      "2\n",
      "3\n"
     ]
    }
   ],
   "source": [
    "arr = [1,2,3]\n",
    "count = len(arr)\n",
    "i=0\n",
    "while i < count:\n",
    "    print(arr[i])\n",
    "    i +=1"
   ]
  },
  {
   "cell_type": "code",
   "execution_count": 124,
   "metadata": {
    "scrolled": true
   },
   "outputs": [
    {
     "data": {
      "text/plain": [
       "[<matplotlib.lines.Line2D at 0x276f4086b38>]"
      ]
     },
     "execution_count": 124,
     "metadata": {},
     "output_type": "execute_result"
    },
    {
     "data": {
      "image/png": "[encoded data removed]",
      "text/plain": [
       "<matplotlib.figure.Figure at 0x276f2d109b0>"
      ]
     },
     "metadata": {},
     "output_type": "display_data"
    }
   ],
   "source": [
    "# y = x^2函数图像\n",
    "import matplotlib.pyplot as plt \n",
    "x = []\n",
    "y = []\n",
    "for i in range(-50,50):\n",
    "    x.append(i)\n",
    "    y.append(i**2)\n",
    "plt.plot(x,y,'r--')  "
   ]
  },
  {
   "cell_type": "code",
   "execution_count": null,
   "metadata": {},
   "outputs": [],
   "source": [
    "import matplotlib.pyplot as plt \n",
    "x = []\n",
    "y = []\n",
    "for i in range(-50,50):\n",
    "    x.append(i)\n",
    "    y.append(i**2)\n",
    "plt.plot(x,y,'r--')  "
   ]
  },
  {
   "cell_type": "code",
   "execution_count": 5,
   "metadata": {
    "scrolled": true
   },
   "outputs": [
    {
     "data": {
      "text/plain": [
       "[<matplotlib.lines.Line2D at 0x195c4ffa9e8>]"
      ]
     },
     "execution_count": 5,
     "metadata": {},
     "output_type": "execute_result"
    },
    {
     "data": {
      "image/png": "[encoded data removed]",
      "text/plain": [
       "<matplotlib.figure.Figure at 0x195c4f85518>"
      ]
     },
     "metadata": {},
     "output_type": "display_data"
    }
   ],
   "source": [
    "import matplotlib.pyplot as plt \n",
    "plt.plot([-10,-20,-30],[100,400,900])"
   ]
  },
  {
   "cell_type": "code",
   "execution_count": 27,
   "metadata": {
    "scrolled": false
   },
   "outputs": [
    {
     "name": "stdout",
     "output_type": "stream",
     "text": [
      "                                                            \n",
      "                                                            \n",
      "                                                            \n",
      "                                                            \n",
      "                                                            \n",
      "                                                            \n",
      "                                                            \n",
      "                                                            \n",
      "                                                            \n",
      "                                                            \n",
      "                                                            \n",
      "                                                            \n",
      "                                                            \n",
      "                                                            \n",
      "                                                            \n",
      "                                                            \n",
      "                                                            \n",
      "                                                            \n",
      "                veLoveLov           veLoveLov               \n",
      "            eLoveLoveLoveLove   eLoveLoveLoveLove           \n",
      "          veLoveLoveLoveLoveLoveLoveLoveLoveLoveLov         \n",
      "         veLoveLoveLoveLoveLoveLoveLoveLoveLoveLoveL        \n",
      "        veLoveLoveLoveLoveLoveLoveLoveLoveLoveLoveLov       \n",
      "        eLoveLoveLoveLoveLoveLoveLoveLoveLoveLoveLove       \n",
      "        LoveLoveLoveLoveLoveLoveLoveLoveLoveLoveLoveL       \n",
      "        oveLoveLoveLoveLoveLoveLoveLoveLoveLoveLoveLo       \n",
      "        veLoveLoveLoveLoveLoveLoveLoveLoveLoveLoveLov       \n",
      "        eLoveLoveLoveLoveLoveLoveLoveLoveLoveLoveLove       \n",
      "         oveLoveLoveLoveLoveLoveLoveLoveLoveLoveLove        \n",
      "          eLoveLoveLoveLoveLoveLoveLoveLoveLoveLove         \n",
      "          LoveLoveLoveLoveLoveLoveLoveLoveLoveLoveL         \n",
      "            eLoveLoveLoveLoveLoveLoveLoveLoveLove           \n",
      "             oveLoveLoveLoveLoveLoveLoveLoveLove            \n",
      "              eLoveLoveLoveLoveLoveLoveLoveLove             \n",
      "                veLoveLoveLoveLoveLoveLoveLov               \n",
      "                  oveLoveLoveLoveLoveLoveLo                 \n",
      "                    LoveLoveLoveLoveLoveL                   \n",
      "                       LoveLoveLoveLov                      \n",
      "                          LoveLoveL                         \n",
      "                             Lov                            \n",
      "                              v                             \n",
      "                                                            \n",
      "                                                            \n",
      "                                                            \n",
      "                                                            \n",
      "                                                            \n",
      "                                                            \n",
      "                                                            \n",
      "                                                            \n",
      "                                                            \n",
      "                                                            \n",
      "                                                            \n",
      "                                                            \n",
      "                                                            \n",
      "                                                            \n",
      "                                                            \n",
      "                                                            \n",
      "                                                            \n",
      "                                                            \n",
      "                                                            \n"
     ]
    }
   ],
   "source": [
    "print('\\n'.join([''.join([('Love'[(x-y) % len('Love')] \n",
    "if ((x*0.05)**2+(y*0.1)**2-1)**3-(x*0.05)**2*(y*0.1)**3 <= 0 else ' ') \n",
    "for x in range(-30, 30)]) for y in range(30, -30, -1)]))\n"
   ]
  },
  {
   "cell_type": "code",
   "execution_count": 2,
   "metadata": {
    "scrolled": true
   },
   "outputs": [
    {
     "ename": "Terminator",
     "evalue": "",
     "output_type": "error",
     "traceback": [
      "\u001b[1;31m---------------------------------------------------------------------------\u001b[0m",
      "\u001b[1;31mTerminator\u001b[0m                                Traceback (most recent call last)",
      "\u001b[1;32m<ipython-input-2-7c15d05de521>\u001b[0m in \u001b[0;36m<module>\u001b[1;34m()\u001b[0m\n\u001b[0;32m     23\u001b[0m \u001b[0mheight\u001b[0m \u001b[1;33m=\u001b[0m \u001b[1;36m700\u001b[0m\u001b[1;33m\u001b[0m\u001b[0m\n\u001b[0;32m     24\u001b[0m \u001b[1;31m#t.pensize(4)\u001b[0m\u001b[1;33m\u001b[0m\u001b[1;33m\u001b[0m\u001b[0m\n\u001b[1;32m---> 25\u001b[1;33m \u001b[0mt\u001b[0m\u001b[1;33m.\u001b[0m\u001b[0mhideturtle\u001b[0m\u001b[1;33m(\u001b[0m\u001b[1;33m)\u001b[0m\u001b[1;33m\u001b[0m\u001b[0m\n\u001b[0m\u001b[0;32m     26\u001b[0m \u001b[0mt\u001b[0m\u001b[1;33m.\u001b[0m\u001b[0mcolormode\u001b[0m\u001b[1;33m(\u001b[0m\u001b[1;36m255\u001b[0m\u001b[1;33m)\u001b[0m\u001b[1;33m\u001b[0m\u001b[0m\n\u001b[0;32m     27\u001b[0m \u001b[0mt\u001b[0m\u001b[1;33m.\u001b[0m\u001b[0mcolor\u001b[0m\u001b[1;33m(\u001b[0m\u001b[1;33m(\u001b[0m\u001b[1;36m255\u001b[0m\u001b[1;33m,\u001b[0m\u001b[1;36m155\u001b[0m\u001b[1;33m,\u001b[0m\u001b[1;36m192\u001b[0m\u001b[1;33m)\u001b[0m\u001b[1;33m,\u001b[0m\u001b[1;34m\"pink\"\u001b[0m\u001b[1;33m)\u001b[0m\u001b[1;33m\u001b[0m\u001b[0m\n",
      "\u001b[1;32mE:\\python\\py\\lib\\turtle.py\u001b[0m in \u001b[0;36mhideturtle\u001b[1;34m()\u001b[0m\n",
      "\u001b[1;31mTerminator\u001b[0m: "
     ]
    }
   ],
   "source": [
    "import turtle as t\n",
    "'''\n",
    "t.pu()  提起画笔\n",
    "t.pd()  移动时绘制图形，缺省时也为绘制\n",
    "t.seth  设置当前朝向为angle角度\n",
    "t.begin_fill()  准备开始填充图形\n",
    "t.color      同时设置pencolor=color1, fillcolor=color2\n",
    "t.goto       设置笔的坐标\n",
    "t.circle(70,20) 半径 度数\n",
    "15,124,215  乔治裤子颜色外面\n",
    "66,163,242  乔治裤子颜色里面\n",
    "\n",
    "134  196  247  天空的颜色\n",
    "123,245,95 草地的颜色\n",
    "253,6,6  鞋子外面\n",
    "253,70,70  鞋子里面\n",
    "130,119,100 泥坑\n",
    "\n",
    "\n",
    "'''\n",
    "r_a=0.8\n",
    "wight = 1100\n",
    "height = 700\n",
    "#t.pensize(4)\n",
    "t.hideturtle()\n",
    "t.colormode(255)\n",
    "t.color((255,155,192),\"pink\")\n",
    "t.setup(wight,height)\n",
    "t.speed(10)\n",
    "def move_pen(x,y):\n",
    "    t.pu()\n",
    "    t.goto(x-wight/2+50,y-height/2+50)\n",
    "    t.pd()\n",
    "def pen_set(size,r1,g1,b1,r2=0,g2=0,b2=0):\n",
    "    t.pensize(size)\n",
    "    t.color((r1,g1,b1),(r2,g2,b2))\n",
    "def draw_grid():\n",
    "    pen_set(1,0,0,0,0,0,0)\n",
    "    for i in range(20):\n",
    "        move_pen(0+i*50,0)\n",
    "        t.seth(90)\n",
    "        t.fd(600)\n",
    "    for i in range(12):\n",
    "        move_pen(0,0+i*50)\n",
    "        t.seth(0)\n",
    "        t.fd(1000)\n",
    "\n",
    "def draw_bg():\n",
    "    #画草地\n",
    "\n",
    "    move_pen(0,350)\n",
    "    pen_set(4,123,245,95, 123,245,95)\n",
    "    t.begin_fill()\n",
    "    t.seth(-90)\n",
    "    t.fd(350)\n",
    "    t.seth(0)\n",
    "    t.fd(1000)\n",
    "    t.seth(90)\n",
    "    t.fd(350)\n",
    "    t.end_fill()\n",
    "    #画天空\n",
    "    move_pen(0,350)\n",
    "    pen_set(4,134,196,247, 134,196,247)\n",
    "    t.begin_fill()\n",
    "    t.seth(90)\n",
    "    t.fd(250)\n",
    "    t.seth(0)\n",
    "    t.fd(1000)\n",
    "    t.seth(-90)\n",
    "    t.fd(250)\n",
    "    a=-180 + r_a\n",
    "    for i in range(50):\n",
    "        a = a - r_a/50\n",
    "        t.seth(a)\n",
    "        t.fd(500/50)\n",
    "    a =180\n",
    "    for i in range(50):\n",
    "        a = a - r_a/50\n",
    "        t.seth(a)\n",
    "        t.fd(500/50)\n",
    "    t.end_fill()\n",
    "\n",
    "def draw_mud_pit():\n",
    "    #画泥坑\n",
    "    pen_set(5,130,119,100, 130,119,100)\n",
    "    move_pen(350,150)\n",
    "    t.begin_fill()\n",
    "    t.seth(-180)\n",
    "    t.circle(50,125)\n",
    "    t.seth(-20)\n",
    "    t.circle(350,60)\n",
    "    t.seth(20)\n",
    "    t.circle(50,30)\n",
    "    t.seth(10)\n",
    "    t.circle(50,30)\n",
    "    t.seth(0)\n",
    "    t.circle(50,30)\n",
    "    t.seth(40)\n",
    "    t.circle(50,90)\n",
    "    t.seth(170)\n",
    "    t.circle(500,45)\n",
    "    t.end_fill()\n",
    "\n",
    "def draw_shoes():\n",
    "    pen_set(3,253,6,6, 253,70,70)\n",
    "    move_pen(400,100)\n",
    "    t.begin_fill()\n",
    "    t.seth(0)\n",
    "    t.fd(50)\n",
    "    t.seth(87)\n",
    "    t.fd(50)\n",
    "    t.seth(180)\n",
    "    t.fd(25)\n",
    "    t.seth(-93)\n",
    "    t.fd(20)\n",
    "    t.seth(-180)\n",
    "    t.fd(25)\n",
    "    t.seth(-120)\n",
    "    t.circle(45,38)\n",
    "    t.end_fill()\n",
    "    move_pen(470,100)\n",
    "    t.begin_fill()\n",
    "    t.seth(0)\n",
    "    t.fd(50)\n",
    "    t.seth(87)\n",
    "    t.fd(50)\n",
    "    t.seth(180)\n",
    "    t.fd(25)\n",
    "    t.seth(-93)\n",
    "    t.fd(20)\n",
    "    t.seth(-180)\n",
    "    t.fd(25)\n",
    "    t.seth(-120)\n",
    "    t.circle(45,38)\n",
    "    t.end_fill()\n",
    "def draw_leg(): \n",
    "    pen_set(6,255,155,192, 255,155,192)\n",
    "    move_pen(440,140)\n",
    "    t.seth(90)\n",
    "    t.fd(20)\n",
    "    move_pen(510,140)\n",
    "    t.seth(90)\n",
    "    t.fd(20)\n",
    "def draw_trousers():\n",
    "    move_pen(400,300)\n",
    "    pen_set(6,15,124,215, 66,163,242)\n",
    "    t.begin_fill()\n",
    "    d_a = 100\n",
    "    a=-130 \n",
    "    for i in range(60):\n",
    "        a = a + 2\n",
    "        t.seth(a)\n",
    "        t.fd(3)\n",
    "    for i in range(14):\n",
    "        a = a + 0.02\n",
    "        t.seth(a)\n",
    "        t.fd(2)\n",
    "    a = 0-a\n",
    "    for i in range(14):\n",
    "        a = a + 0.02\n",
    "        t.seth(a)\n",
    "        t.fd(2)\n",
    "    for i in range(60):\n",
    "        a = a + 2.2\n",
    "        t.seth(a)\n",
    "        t.fd(3)\n",
    "    t.end_fill()\n",
    "def draw_tile():\n",
    "    move_pen(550,177)\n",
    "    pen_set(6,255,155,192, 255,155,192)\n",
    "    a=-60 \n",
    "    for i in range(25):\n",
    "        a = a + 4\n",
    "        t.seth(a)\n",
    "        t.fd(1)\n",
    "    t.circle(5)\n",
    "    a = -a\n",
    "    for i in range(30):\n",
    "        a = a + 4\n",
    "        t.seth(a)\n",
    "        t.fd(1)\n",
    "def draw_hands():\n",
    "    move_pen(550,250)\n",
    "    pen_set(6,255,155,192, 255,155,192)\n",
    "    t.seth(20)\n",
    "    t.fd(70)\n",
    "    move_pen(600,270)\n",
    "    t.seth(60)\n",
    "    t.fd(20)\n",
    "    move_pen(600,270)\n",
    "    t.seth(-20)\n",
    "    t.fd(20)\n",
    "\n",
    "    move_pen(380,250)\n",
    "    t.seth(160)\n",
    "    t.fd(50)\n",
    "    move_pen(350,260)\n",
    "    t.seth(100)\n",
    "    t.fd(20)\n",
    "    move_pen(350,260)\n",
    "    t.seth(-140)\n",
    "    t.fd(20)\n",
    "\n",
    "def draw_face():\n",
    "    move_pen(400,360)\n",
    "    pen_set(4,255,155,192, 255,196,218)\n",
    "    t.begin_fill()\n",
    "    a=-120 \n",
    "    for i in range(20):\n",
    "        a = a + 2.5\n",
    "        t.seth(a)\n",
    "        t.fd(2.2)\n",
    "    for i in range(130):\n",
    "        a = a + 1.3\n",
    "        t.seth(a)\n",
    "        t.fd(1.8)\n",
    "    for i in range(35):\n",
    "        a = a + 1.4\n",
    "        t.seth(a)\n",
    "        t.fd(2)\n",
    "    for i in range(50):\n",
    "        a = a + 0.35\n",
    "        t.seth(a)\n",
    "        t.fd(2)\n",
    "    for i in range(50):\n",
    "        a = a + 0.2\n",
    "        t.seth(a)\n",
    "        t.fd(2)\n",
    "    n=0.4\n",
    "    for i in range(180):\n",
    "        if 0<=i<30 or 60<=i<90 or 120<=i<150 :\n",
    "            n=n+0.08\n",
    "            t.lt(3) #向左转3度\n",
    "            t.fd(n) #向前走a的步长\n",
    "        else:\n",
    "            n=n-0.08\n",
    "            t.lt(3)\n",
    "            t.fd(n)\n",
    "    a=-50\n",
    "    for i in range(20):\n",
    "        a = a + 2.8\n",
    "        t.seth(a)\n",
    "        t.fd(5)\n",
    "    t.end_fill()\n",
    "def draw_other():\n",
    "    move_pen(310,440)\n",
    "    pen_set(6,255,145,192, 255,145,192)\n",
    "    t.begin_fill()\n",
    "    t.circle(3)\n",
    "    t.end_fill()\n",
    "    move_pen(330,430)\n",
    "    t.begin_fill()\n",
    "    t.circle(3)\n",
    "    t.end_fill()\n",
    "\n",
    "    pen_set(6,255,145,192, 255,255,255)\n",
    "    move_pen(410,425)\n",
    "    t.begin_fill()\n",
    "    t.circle(10)\n",
    "    t.end_fill()\n",
    "    move_pen(460,395)\n",
    "    t.begin_fill()\n",
    "    t.circle(10)\n",
    "    t.end_fill()\n",
    "\n",
    "    pen_set(6,0,0,0,0,0,0)\n",
    "    move_pen(405,429)\n",
    "    t.begin_fill()\n",
    "    t.circle(3)\n",
    "    t.end_fill()\n",
    "    move_pen(455,399)\n",
    "    t.begin_fill()\n",
    "    t.circle(3)\n",
    "    t.end_fill()\n",
    "\n",
    "    move_pen(510,310)\n",
    "    pen_set(6,255,155,192, 255,155,192)\n",
    "    t.begin_fill()\n",
    "    t.circle(25)\n",
    "    t.end_fill()\n",
    "\n",
    "    move_pen(410,340)\n",
    "    pen_set(6,255,145,192, 255,145,192)\n",
    "    a=-80 \n",
    "    for i in range(20):\n",
    "        a = a + 6\n",
    "        t.seth(a)\n",
    "        t.fd(3)\n",
    "    move_pen(430,445)\n",
    "    pen_set(4,255,155,192, 255,196,218)\n",
    "    t.begin_fill()\n",
    "    a=120 \n",
    "    for i in range(40):\n",
    "        a = a - 2\n",
    "        t.seth(a)\n",
    "        t.fd(1.2)\n",
    "    a=-a\n",
    "    for i in range(45):\n",
    "        a = a - 2\n",
    "        t.seth(a)\n",
    "        t.fd(1.2)\n",
    "    t.end_fill()\n",
    "    move_pen(480,430)\n",
    "    t.begin_fill()\n",
    "    a=70 \n",
    "    for i in range(40):\n",
    "        a = a -1.5\n",
    "        t.seth(a)\n",
    "        t.fd(1.5)\n",
    "    a=-80\n",
    "    for i in range(45):\n",
    "        a = a -1.5\n",
    "        t.seth(a)\n",
    "        t.fd(1.5)\n",
    "    t.end_fill()\n",
    "draw_bg()\n",
    "draw_mud_pit()\n",
    "#draw_grid()\n",
    "draw_leg()\n",
    "draw_shoes()\n",
    "draw_trousers()\n",
    "draw_tile()\n",
    "draw_hands()\n",
    "draw_face()\n",
    "draw_other()\n",
    "t.mainloop()"
   ]
  },
  {
   "cell_type": "code",
   "execution_count": 2,
   "metadata": {},
   "outputs": [
    {
     "data": {
      "image/png": "[encoded data removed]",
      "text/plain": [
       "<matplotlib.figure.Figure at 0x228433ef518>"
      ]
     },
     "metadata": {},
     "output_type": "display_data"
    }
   ],
   "source": [
    "import matplotlib.pyplot as plt\n",
    "import numpy as np\n",
    "x = np.linspace(-1, 1, 200)\n",
    "y1 = np.sqrt(1-np.power(x, 2)) + np.power(np.square(x), 0.33)\n",
    "y2 = -np.sqrt(1-np.power(x, 2)) + np.power(np.square(x), 0.33)\n",
    "my_x_ticks = np.arange(-2, 2.5, 0.5)\n",
    "my_y_ticks = np.arange(-2, 2.5, 0.5)\n",
    "plt.plot(x, y1, color='r')\n",
    "plt.plot(x, y2, color='r')\n",
    "plt.xticks(my_x_ticks)\n",
    "plt.yticks(my_y_ticks)\n",
    "plt.show()"
   ]
  },
  {
   "cell_type": "code",
   "execution_count": 1,
   "metadata": {},
   "outputs": [
    {
     "ename": "Terminator",
     "evalue": "",
     "output_type": "error",
     "traceback": [
      "\u001b[1;31m---------------------------------------------------------------------------\u001b[0m",
      "\u001b[1;31mTerminator\u001b[0m                                Traceback (most recent call last)",
      "\u001b[1;32m<ipython-input-1-0d5741afa075>\u001b[0m in \u001b[0;36m<module>\u001b[1;34m()\u001b[0m\n\u001b[0;32m     17\u001b[0m         \u001b[0ma\u001b[0m\u001b[1;33m=\u001b[0m\u001b[0ma\u001b[0m\u001b[1;33m+\u001b[0m\u001b[1;36m0.08\u001b[0m\u001b[1;33m\u001b[0m\u001b[0m\n\u001b[0;32m     18\u001b[0m         \u001b[0mt\u001b[0m\u001b[1;33m.\u001b[0m\u001b[0mlt\u001b[0m\u001b[1;33m(\u001b[0m\u001b[1;36m3\u001b[0m\u001b[1;33m)\u001b[0m \u001b[1;31m#向左转3度\u001b[0m\u001b[1;33m\u001b[0m\u001b[0m\n\u001b[1;32m---> 19\u001b[1;33m         \u001b[0mt\u001b[0m\u001b[1;33m.\u001b[0m\u001b[0mfd\u001b[0m\u001b[1;33m(\u001b[0m\u001b[0ma\u001b[0m\u001b[1;33m)\u001b[0m \u001b[1;31m#向前走a的步长\u001b[0m\u001b[1;33m\u001b[0m\u001b[0m\n\u001b[0m\u001b[0;32m     20\u001b[0m     \u001b[1;32melse\u001b[0m\u001b[1;33m:\u001b[0m\u001b[1;33m\u001b[0m\u001b[0m\n\u001b[0;32m     21\u001b[0m         \u001b[0ma\u001b[0m\u001b[1;33m=\u001b[0m\u001b[0ma\u001b[0m\u001b[1;33m-\u001b[0m\u001b[1;36m0.08\u001b[0m\u001b[1;33m\u001b[0m\u001b[0m\n",
      "\u001b[1;32mE:\\python\\py\\lib\\turtle.py\u001b[0m in \u001b[0;36mfd\u001b[1;34m(distance)\u001b[0m\n",
      "\u001b[1;31mTerminator\u001b[0m: "
     ]
    }
   ],
   "source": [
    "# coding:utf-8\n",
    "import turtle as t\n",
    "t.pensize(4) # 设置画笔的大小\n",
    "t.colormode(255) # 设置GBK颜色范围为0-255\n",
    "t.color((255,155,192),\"pink\") # 设置画笔颜色和填充颜色(pink)\n",
    "t.setup(840,500) # 设置主窗口的大小为840*500\n",
    "t.speed(10) # 设置画笔速度为10\n",
    "#鼻子\n",
    "t.pu() # 提笔\n",
    "t.goto(-100,100) # 画笔前往坐标(-100,100)\n",
    "t.pd() # 下笔\n",
    "t.seth(-30) # 笔的角度为-30°\n",
    "t.begin_fill() # 外形填充的开始标志\n",
    "a=0.4\n",
    "for i in range(120):\n",
    "    if 0<=i<30 or 60<=i<90:\n",
    "        a=a+0.08\n",
    "        t.lt(3) #向左转3度\n",
    "        t.fd(a) #向前走a的步长\n",
    "    else:\n",
    "        a=a-0.08\n",
    "        t.lt(3)\n",
    "        t.fd(a)\n",
    "t.end_fill() # 依据轮廓填充\n",
    "t.pu() # 提笔\n",
    "t.seth(90) # 笔的角度为90度\n",
    "t.fd(25) # 向前移动25\n",
    "t.seth(0) # 转换画笔的角度为0\n",
    "t.fd(10)\n",
    "t.pd()\n",
    "t.pencolor(255,155,192) # 设置画笔颜色\n",
    "t.seth(10)\n",
    "t.begin_fill()\n",
    "t.circle(5) # 画一个半径为5的圆\n",
    "t.color(160,82,45) # 设置画笔和填充颜色\n",
    "t.end_fill()\n",
    "t.pu()\n",
    "t.seth(0)\n",
    "t.fd(20)\n",
    "t.pd()\n",
    "t.pencolor(255,155,192)\n",
    "t.seth(10)\n",
    "t.begin_fill()\n",
    "t.circle(5)\n",
    "t.color(160,82,45)\n",
    "t.end_fill()\n",
    "#头\n",
    "t.color((255,155,192),\"pink\")\n",
    "t.pu()\n",
    "t.seth(90)\n",
    "t.fd(41)\n",
    "t.seth(0)\n",
    "t.fd(0)\n",
    "t.pd()\n",
    "t.begin_fill()\n",
    "t.seth(180)\n",
    "t.circle(300,-30) # 顺时针画一个半径为300,圆心角为30°的园\n",
    "t.circle(100,-60)\n",
    "t.circle(80,-100)\n",
    "t.circle(150,-20)\n",
    "t.circle(60,-95)\n",
    "t.seth(161)\n",
    "t.circle(-300,15)\n",
    "t.pu()\n",
    "t.goto(-100,100)\n",
    "t.pd()\n",
    "t.seth(-30)\n",
    "a=0.4\n",
    "for i in range(60):\n",
    "    if 0<=i<30 or 60<=i<90:\n",
    "        a=a+0.08\n",
    "        t.lt(3) #向左转3度\n",
    "        t.fd(a) #向前走a的步长\n",
    "    else:\n",
    "        a=a-0.08\n",
    "        t.lt(3)\n",
    "        t.fd(a)\n",
    "t.end_fill()\n",
    "#耳朵\n",
    "t.color((255,155,192),\"pink\")\n",
    "t.pu()\n",
    "t.seth(90)\n",
    "t.fd(-7)\n",
    "t.seth(0)\n",
    "t.fd(70)\n",
    "t.pd()\n",
    "t.begin_fill()\n",
    "t.seth(100)\n",
    "t.circle(-50,50)\n",
    "t.circle(-10,120)\n",
    "t.circle(-50,54)\n",
    "t.end_fill()\n",
    "t.pu()\n",
    "t.seth(90)\n",
    "t.fd(-12)\n",
    "t.seth(0)\n",
    "t.fd(30)\n",
    "t.pd()\n",
    "t.begin_fill()\n",
    "t.seth(100)\n",
    "t.circle(-50,50)\n",
    "t.circle(-10,120)\n",
    "t.circle(-50,56)\n",
    "t.end_fill()\n",
    "#眼睛\n",
    "t.color((255,155,192),\"white\")\n",
    "t.pu()\n",
    "t.seth(90)\n",
    "t.fd(-20)\n",
    "t.seth(0)\n",
    "t.fd(-95)\n",
    "t.pd()\n",
    "t.begin_fill()\n",
    "t.circle(15)\n",
    "t.end_fill()\n",
    "t.color(\"black\")\n",
    "t.pu()\n",
    "t.seth(90)\n",
    "t.fd(12)\n",
    "t.seth(0)\n",
    "t.fd(-3)\n",
    "t.pd()\n",
    "t.begin_fill()\n",
    "t.circle(3)\n",
    "t.end_fill()\n",
    "t.color((255,155,192),\"white\")\n",
    "t.pu()\n",
    "t.seth(90)\n",
    "t.fd(-25)\n",
    "t.seth(0)\n",
    "t.fd(40)\n",
    "t.pd()\n",
    "t.begin_fill()\n",
    "t.circle(15)\n",
    "t.end_fill()\n",
    "t.color(\"black\")\n",
    "t.pu()\n",
    "t.seth(90)\n",
    "t.fd(12)\n",
    "t.seth(0)\n",
    "t.fd(-3)\n",
    "t.pd()\n",
    "t.begin_fill()\n",
    "t.circle(3)\n",
    "t.end_fill()\n",
    "#腮\n",
    "t.color((255,155,192))\n",
    "t.pu()\n",
    "t.seth(90)\n",
    "t.fd(-95)\n",
    "t.seth(0)\n",
    "t.fd(65)\n",
    "t.pd()\n",
    "t.begin_fill()\n",
    "t.circle(30)\n",
    "t.end_fill()\n",
    "#嘴\n",
    "t.color(239,69,19)\n",
    "t.pu()\n",
    "t.seth(90)\n",
    "t.fd(15)\n",
    "t.seth(0)\n",
    "t.fd(-100)\n",
    "t.pd()\n",
    "t.seth(-80)\n",
    "t.circle(30,40)\n",
    "t.circle(40,80)\n",
    "#身体\n",
    "t.color(\"red\",(255,99,71))\n",
    "t.pu()\n",
    "t.seth(90)\n",
    "t.fd(-20)\n",
    "t.seth(0)\n",
    "t.fd(-78)\n",
    "t.pd()\n",
    "t.begin_fill()\n",
    "t.seth(-130)\n",
    "t.circle(100,10)\n",
    "t.circle(300,30)\n",
    "t.seth(0)\n",
    "t.fd(230)\n",
    "t.seth(90)\n",
    "t.circle(300,30)\n",
    "t.circle(100,3)\n",
    "t.color((255,155,192),(255,100,100))\n",
    "t.seth(-135)\n",
    "t.circle(-80,63)\n",
    "t.circle(-150,24)\n",
    "t.end_fill()\n",
    "#手\n",
    "t.color((255,155,192))\n",
    "t.pu()\n",
    "t.seth(90)\n",
    "t.fd(-40)\n",
    "t.seth(0)\n",
    "t.fd(-27)\n",
    "t.pd()\n",
    "t.seth(-160)\n",
    "t.circle(300,15)\n",
    "t.pu()\n",
    "t.seth(90)\n",
    "t.fd(15)\n",
    "t.seth(0)\n",
    "t.fd(0)\n",
    "t.pd()\n",
    "t.seth(-10)\n",
    "t.circle(-20,90)\n",
    "t.pu()\n",
    "t.seth(90)\n",
    "t.fd(30)\n",
    "t.seth(0)\n",
    "t.fd(237)\n",
    "t.pd()\n",
    "t.seth(-20)\n",
    "t.circle(-300,15)\n",
    "t.pu()\n",
    "t.seth(90)\n",
    "t.fd(20)\n",
    "t.seth(0)\n",
    "t.fd(0)\n",
    "t.pd()\n",
    "t.seth(-170)\n",
    "t.circle(20,90)\n",
    "#脚\n",
    "t.pensize(10)\n",
    "t.color((240,128,128))\n",
    "t.pu()\n",
    "t.seth(90)\n",
    "t.fd(-75)\n",
    "t.seth(0)\n",
    "t.fd(-180)\n",
    "t.pd()\n",
    "t.seth(-90)\n",
    "t.fd(40)\n",
    "t.seth(-180)\n",
    "t.color(\"black\")\n",
    "t.pensize(15)\n",
    "t.fd(20)\n",
    "t.pensize(10)\n",
    "t.color((240,128,128))\n",
    "t.pu()\n",
    "t.seth(90)\n",
    "t.fd(40)\n",
    "t.seth(0)\n",
    "t.fd(90)\n",
    "t.pd()\n",
    "t.seth(-90)\n",
    "t.fd(40)\n",
    "t.seth(-180)\n",
    "t.color(\"black\")\n",
    "t.pensize(15)\n",
    "t.fd(20)\n",
    "#尾巴\n",
    "t.pensize(4)\n",
    "t.color((255,155,192))\n",
    "t.pu()\n",
    "t.seth(90)\n",
    "t.fd(70)\n",
    "t.seth(0)\n",
    "t.fd(95)\n",
    "t.pd()\n",
    "t.seth(0)\n",
    "t.circle(70,20)\n",
    "t.circle(10,330)\n",
    "t.circle(70,30)\n"
   ]
  },
  {
   "cell_type": "code",
   "execution_count": 2,
   "metadata": {},
   "outputs": [],
   "source": [
    "'''\n",
    "Created on Nov 18, 2017\n",
    "@author: QiZhao\n",
    "'''\n",
    "import turtle\n",
    "# 设置初始位置\n",
    "turtle.penup()\n",
    "turtle.left(90)\n",
    "turtle.fd(200)\n",
    "turtle.pendown()\n",
    "turtle.right(90)\n",
    "# 花蕊\n",
    "turtle.fillcolor(\"red\")\n",
    "turtle.begin_fill()\n",
    "turtle.circle(10,180)\n",
    "turtle.circle(25,110)\n",
    "turtle.left(50)\n",
    "turtle.circle(60,45)\n",
    "turtle.circle(20,170)\n",
    "turtle.right(24)\n",
    "turtle.fd(30)\n",
    "turtle.left(10)\n",
    "turtle.circle(30,110)\n",
    "turtle.fd(20)\n",
    "turtle.left(40)\n",
    "turtle.circle(90,70)\n",
    "turtle.circle(30,150)\n",
    "turtle.right(30)\n",
    "turtle.fd(15)\n",
    "turtle.circle(80,90)\n",
    "turtle.left(15)\n",
    "turtle.fd(45)\n",
    "turtle.right(165)\n",
    "turtle.fd(20)\n",
    "turtle.left(155)\n",
    "turtle.circle(150,80)\n",
    "turtle.left(50)\n",
    "turtle.circle(150,90)\n",
    "turtle.end_fill()\n",
    "# 花瓣1\n",
    "turtle.left(150)\n",
    "turtle.circle(-90,70)\n",
    "turtle.left(20)\n",
    "turtle.circle(75,105)\n",
    "turtle.setheading(60)\n",
    "turtle.circle(80,98)\n",
    "turtle.circle(-90,40)\n",
    "# 花瓣2\n",
    "turtle.left(180)\n",
    "turtle.circle(90,40)\n",
    "turtle.circle(-80,98)\n",
    "turtle.setheading(-83)\n",
    "# 叶子1\n",
    "turtle.fd(30)\n",
    "turtle.left(90)\n",
    "turtle.fd(25)\n",
    "turtle.left(45)\n",
    "turtle.fillcolor(\"green\")\n",
    "turtle.begin_fill()\n",
    "turtle.circle(-80,90)\n",
    "turtle.right(90)\n",
    "turtle.circle(-80,90)\n",
    "turtle.end_fill()\n",
    "turtle.right(135)\n",
    "turtle.fd(60)\n",
    "turtle.left(180)\n",
    "turtle.fd(85)\n",
    "turtle.left(90)\n",
    "turtle.fd(80)\n",
    "# 叶子2\n",
    "turtle.right(90)\n",
    "turtle.right(45)\n",
    "turtle.fillcolor(\"green\")\n",
    "turtle.begin_fill()\n",
    "turtle.circle(80,90)\n",
    "turtle.left(90)\n",
    "turtle.circle(80,90)\n",
    "turtle.end_fill()\n",
    "turtle.left(135)\n",
    "turtle.fd(60)\n",
    "turtle.left(180)\n",
    "turtle.fd(60)\n",
    "turtle.right(90)\n",
    "turtle.circle(200,60)"
   ]
  },
  {
   "cell_type": "markdown",
   "metadata": {},
   "source": [
    "## 列表的比较\n",
    "- \\>,<,>=,<=,==,!="
   ]
  },
  {
   "cell_type": "markdown",
   "metadata": {},
   "source": [
    "## 列表生成式\n",
    "[x for x in range(10)]"
   ]
  },
  {
   "cell_type": "markdown",
   "metadata": {},
   "source": [
    "## 列表的方法\n",
    "![](../Photo/118.png)"
   ]
  },
  {
   "cell_type": "markdown",
   "metadata": {},
   "source": [
    "## 将字符串分割成列表\n",
    "- split  按照自定义的内容拆分"
   ]
  },
  {
   "cell_type": "markdown",
   "metadata": {},
   "source": [
    "## EP:\n",
    "![](../Photo/119.png)\n",
    "![](../Photo/120.png)"
   ]
  },
  {
   "cell_type": "markdown",
   "metadata": {},
   "source": [
    "## 列表的复制\n",
    "- copy 浅复制\n",
    "- deepcopy import copy  深复制\n",
    "- http://www.pythontutor.com/visualize.html#mode=edit"
   ]
  },
  {
   "cell_type": "markdown",
   "metadata": {},
   "source": [
    "## 列表排序\n",
    "- sort\n",
    "- sorted\n",
    "- 列表的多级排序\n",
    "    - 匿名函数"
   ]
  },
  {
   "cell_type": "markdown",
   "metadata": {},
   "source": [
    "## EP：\n",
    "- 手动排序该列表[5,3,8,0,17]，以升序或者降序"
   ]
  },
  {
   "cell_type": "markdown",
   "metadata": {},
   "source": [
    "- 1\n",
    "![](../Photo/121.png)"
   ]
  },
  {
   "cell_type": "code",
   "execution_count": 5,
   "metadata": {},
   "outputs": [
    {
     "name": "stdout",
     "output_type": "stream",
     "text": [
      "10,50,60,100\n",
      "第1位同学的成绩为10  Grade is F\n",
      "第2位同学的成绩为50  Grade is F\n",
      "第3位同学的成绩为60  Grade is D\n",
      "第4位同学的成绩为100  Grade is A\n"
     ]
    }
   ],
   "source": [
    "n=input()\n",
    "list_=n.split(\",\")\n",
    "arr = [int(list_[i]) for i in range(len(list_))] #for循环，把每个字符转成int值\n",
    "brr=[10,20,30,40]\n",
    "count = len(arr)\n",
    "best = max(arr)\n",
    "j=0\n",
    "while j< count:\n",
    "    if arr[j]>=best-brr[0]:\n",
    "        print('第'+str(j+1)+'位同学的成绩为'+str(arr[j])+'  Grade is A')\n",
    "        j +=1\n",
    "    elif arr[j]>=best-brr[1]:\n",
    "        print('第'+str(j+1)+'位同学的成绩为'+str(arr[j])+'  Grade is B')\n",
    "        j +=1\n",
    "    elif arr[j]>=best-brr[2]:\n",
    "        print('第'+str(j+1)+'位同学的成绩为'+str(arr[j])+'  Grade is C')\n",
    "        j +=1\n",
    "    elif arr[j]>=best-brr[3]:\n",
    "        print('第'+str(j+1)+'位同学的成绩为'+str(arr[j])+'  Grade is D')\n",
    "        j +=1\n",
    "    else:\n",
    "        print('第'+str(j+1)+'位同学的成绩为'+str(arr[j])+'  Grade is F')\n",
    "        j +=1"
   ]
  },
  {
   "cell_type": "markdown",
   "metadata": {},
   "source": [
    "- 2\n",
    "![](../Photo/122.png)"
   ]
  },
  {
   "cell_type": "code",
   "execution_count": 2,
   "metadata": {},
   "outputs": [
    {
     "name": "stdout",
     "output_type": "stream",
     "text": [
      "1,2,3\n",
      "[3, 2, 1]\n"
     ]
    }
   ],
   "source": [
    "x=input()\n",
    "list_=x.split(\",\")\n",
    "list_ = [int(list_[i]) for i in range(len(list_))] \n",
    "list_.reverse()\n",
    "print(list_)"
   ]
  },
  {
   "cell_type": "markdown",
   "metadata": {},
   "source": [
    "- 3\n",
    "![](../Photo/123.png)"
   ]
  },
  {
   "cell_type": "code",
   "execution_count": 10,
   "metadata": {},
   "outputs": [
    {
     "name": "stdout",
     "output_type": "stream",
     "text": [
      "2 5 6 5 4 3 23 43 2\n",
      "2的个数为2\n",
      "5的个数为2\n",
      "6的个数为1\n",
      "5的个数为2\n",
      "4的个数为1\n",
      "3的个数为1\n",
      "23的个数为1\n",
      "43的个数为1\n",
      "2的个数为2\n"
     ]
    }
   ],
   "source": [
    "x=input()\n",
    "list_=x.split(\" \")\n",
    "list_ = [int(list_[i]) for i in range(len(list_))] \n",
    "j=0\n",
    "while j < len(list_):\n",
    "    n = list_.count(list_[j])\n",
    "    print(str(list_[j])+'的个数为'+str(n))\n",
    "    j +=1"
   ]
  },
  {
   "cell_type": "code",
   "execution_count": 23,
   "metadata": {},
   "outputs": [
    {
     "name": "stdout",
     "output_type": "stream",
     "text": [
      "请输入一串字符串：1,2,3,4,1\n",
      "{'1': 2, ',': 4, '2': 1, '3': 1, '4': 1}\n"
     ]
    }
   ],
   "source": [
    "content = input(\"请输入一串字符串：\")\n",
    "res = {}\n",
    "for i in content:\n",
    "    res[i] = content.count(i)\n",
    "print(res)"
   ]
  },
  {
   "cell_type": "markdown",
   "metadata": {},
   "source": [
    "- 4\n",
    "![](../Photo/124.png)"
   ]
  },
  {
   "cell_type": "code",
   "execution_count": 9,
   "metadata": {},
   "outputs": [
    {
     "name": "stdout",
     "output_type": "stream",
     "text": [
      "10 30 50\n",
      "平均分数为 30.0\n",
      "不及格人数为 1\n",
      "及格人数为 1\n",
      "及格人数为 2\n"
     ]
    }
   ],
   "source": [
    "value=input()\n",
    "list_=value.split(\" \")\n",
    "list_ = [int(list_[i]) for i in range(len(list_))] \n",
    "j=0\n",
    "sum_ = 0\n",
    "while j < len(list_):\n",
    "    sum_ +=list_[j]\n",
    "    j +=1\n",
    "average = sum_ / len(list_)\n",
    "print('平均分数为',average)\n",
    "count = 0\n",
    "count2 =0\n",
    "for h in range(len(list_)):\n",
    "    if list_[h] >= average:\n",
    "        count +=1\n",
    "        print('及格人数为',count)\n",
    "    else:\n",
    "        count2 +=1\n",
    "        print('不及格人数为',count2)"
   ]
  },
  {
   "cell_type": "markdown",
   "metadata": {},
   "source": [
    "- 5\n",
    "![](../Photo/125.png)"
   ]
  },
  {
   "cell_type": "code",
   "execution_count": null,
   "metadata": {},
   "outputs": [],
   "source": []
  },
  {
   "cell_type": "markdown",
   "metadata": {},
   "source": [
    "- 6\n",
    "![](../Photo/126.png)"
   ]
  },
  {
   "cell_type": "code",
   "execution_count": null,
   "metadata": {},
   "outputs": [],
   "source": []
  },
  {
   "cell_type": "markdown",
   "metadata": {},
   "source": [
    "- 7\n",
    "![](../Photo/127.png)\n",
    "![](../Photo/128.png)"
   ]
  },
  {
   "cell_type": "code",
   "execution_count": null,
   "metadata": {},
   "outputs": [],
   "source": []
  },
  {
   "cell_type": "markdown",
   "metadata": {},
   "source": [
    "- 8\n",
    "![](../Photo/129.png)"
   ]
  },
  {
   "cell_type": "code",
   "execution_count": null,
   "metadata": {},
   "outputs": [],
   "source": [
    "def eliminateDuplicates(lst):\n",
    "    list_=lst.split(\" \")\n",
    "    list_ = [int(list_[i]) for i in range(len(list_))] \n",
    "    list1=sorted(set(list_),key=list_.index) #使用set删除重复数据\n",
    "    print( list1)\n",
    "eliminateDuplicates(input('输入数字 空格间隔'))"
   ]
  },
  {
   "cell_type": "markdown",
   "metadata": {},
   "source": [
    "- 9\n",
    "![](../Photo/130.png)"
   ]
  },
  {
   "cell_type": "code",
   "execution_count": 4,
   "metadata": {},
   "outputs": [
    {
     "name": "stdout",
     "output_type": "stream",
     "text": [
      "输入数字 空格间隔1 3 2 4\n",
      "[1, 3, 2, 4]\n",
      "[1, 2, 3, 4]\n",
      "The list is already sorted\n"
     ]
    }
   ],
   "source": [
    "def isSorted(lst):\n",
    "    list_=lst.split(\" \")\n",
    "    list_ = [int(list_[i]) for i in range(len(list_))]\n",
    "    print(list_)\n",
    "    list_.sort()\n",
    "    print(list_)\n",
    "    if list_ is list_:\n",
    "        print('The list is already sorted')\n",
    "    else:\n",
    "        print('The list is not sorted')\n",
    "isSorted(lst=input('输入数字 空格间隔'))"
   ]
  },
  {
   "cell_type": "markdown",
   "metadata": {},
   "source": [
    "- 10\n",
    "![](../Photo/131.png)"
   ]
  },
  {
   "cell_type": "markdown",
   "metadata": {},
   "source": [
    "- 11\n",
    "![](../Photo/132.png)"
   ]
  },
  {
   "cell_type": "markdown",
   "metadata": {},
   "source": [
    "- 12\n",
    "![](../Photo/133.png)"
   ]
  }
 ],
 "metadata": {
  "kernelspec": {
   "display_name": "Python 3",
   "language": "python",
   "name": "python3"
  },
  "language_info": {
   "codemirror_mode": {
    "name": "ipython",
    "version": 3
   },
   "file_extension": ".py",
   "mimetype": "text/x-python",
   "name": "python",
   "nbconvert_exporter": "python",
   "pygments_lexer": "ipython3",
   "version": "3.6.4"
  }
 },
 "nbformat": 4,
 "nbformat_minor": 2
}
