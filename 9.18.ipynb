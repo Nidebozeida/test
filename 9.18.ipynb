{
 "cells": [
  {
   "cell_type": "markdown",
   "metadata": {},
   "source": [
    "\n",
    "+\n",
    "# 更多字符串和特殊方法\n",
    "- 前面我们已经学了类，在Python中还有一些特殊的方法起着非常重要的作用，这里会介绍一些特殊的方法和运算符的重载，以及使用特殊方法设计类"
   ]
  },
  {
   "cell_type": "markdown",
   "metadata": {},
   "source": [
    "## str 类\n",
    "- 一个str对象是不可变的，也就是说，一旦创建了这个字符串，那么它的内容在认为不改变的情况下是不会变的\n",
    "- s1 = str()\n",
    "- s2 = str('welcome to Python')"
   ]
  },
  {
   "cell_type": "markdown",
   "metadata": {},
   "source": [
    "## 创建两个对象，分别观察两者id\n",
    "- id为Python内存地址"
   ]
  },
  {
   "cell_type": "markdown",
   "metadata": {},
   "source": [
    "## 处理字符串的函数\n",
    "- len\n",
    "- max\n",
    "- min\n",
    "- 字符串一切是按照ASCII码值进行比较"
   ]
  },
  {
   "cell_type": "markdown",
   "metadata": {},
   "source": [
    "## 下角标运算符 []\n",
    "- 一个字符串是一个字符序列，可以通过索引进行访问\n",
    "- 观察字符串是否是一个可迭代序列  \\__iter__"
   ]
  },
  {
   "cell_type": "markdown",
   "metadata": {},
   "source": [
    "## 切片 [start: end]\n",
    "- start 默认值为0\n",
    "- end 默认值为-1"
   ]
  },
  {
   "cell_type": "markdown",
   "metadata": {},
   "source": [
    "## 链接运算符 + 和复制运算符 *\n",
    "- \\+ 链接多个字符串，同时''.join()也是\n",
    "- \\* 复制多个字符串"
   ]
  },
  {
   "cell_type": "markdown",
   "metadata": {},
   "source": [
    "## in 和 not in 运算符\n",
    "- in :判断某个字符是否在字符串内 \n",
    "- not in ：判断某个字符是否不在字符串内\n",
    "- 返回的是布尔值"
   ]
  },
  {
   "cell_type": "code",
   "execution_count": 14,
   "metadata": {},
   "outputs": [
    {
     "name": "stdout",
     "output_type": "stream",
     "text": [
      "012\n",
      "0123456789\n",
      "6789\n",
      "0123456\n",
      "2\n",
      "9\n",
      "9876543210\n",
      "78\n",
      "789\n",
      "96\n"
     ]
    }
   ],
   "source": [
    "str = '0123456789'\n",
    "print (str[0:3]) #截取第一位到第三位的字符\n",
    "print (str[:]) #截取字符串的全部字符\n",
    "print (str[6:]) #截取第七个字符到结尾\n",
    "print (str[:-3]) #截取从头开始到倒数第三个字符之前\n",
    "print (str[2]) #截取第三个字符\n",
    "print (str[-1]) #截取倒数第一个字符\n",
    "print (str[::-1]) #创造一个与原字符串顺序相反的字符串\n",
    "print (str[-3:-1]) #截取倒数第三位与倒数第一位之前的字符\n",
    "print (str[-3:]) #截取倒数第三位到结尾\n",
    "print (str[:-5:-3]) #逆序截取，具体啥意思没搞明白？"
   ]
  },
  {
   "cell_type": "markdown",
   "metadata": {},
   "source": [
    "## 比较字符串\n",
    "-  ==, !=, >=, <=, >, <\n",
    "- 依照ASCII码值进行比较"
   ]
  },
  {
   "cell_type": "markdown",
   "metadata": {},
   "source": [
    "## 测试字符串\n",
    "![](../Photo/99.png)\n",
    "- 注意：\n",
    "> - isalnum() 中是不能包含空格，否则会返回False"
   ]
  },
  {
   "cell_type": "code",
   "execution_count": 33,
   "metadata": {},
   "outputs": [
    {
     "name": "stdout",
     "output_type": "stream",
     "text": [
      "请输入密码12d\n",
      "密码必须含有大写\n"
     ]
    }
   ],
   "source": [
    "a = input('请输入密码')\n",
    "count1 = 0\n",
    "count2 = 0\n",
    "count3 = 0\n",
    "for i in a:\n",
    "    if i.islower() is True:\n",
    "        count1 +=1\n",
    "    if i.isupper() is True:\n",
    "        count2 +=1\n",
    "    if i.isdigit() is True:\n",
    "        count3 +=1\n",
    "else:\n",
    "    if count1 == 0:\n",
    "        print('密码必须含有小写字母')\n",
    "    if count2 == 0:\n",
    "        print('密码必须含有大写')\n",
    "    if count3 == 0:\n",
    "        print('密码必须含有数字')\n",
    "    if count1 !=0 and count2 !=0 and count3 !=0:\n",
    "        print('密码设置成功')\n"
   ]
  },
  {
   "cell_type": "code",
   "execution_count": 15,
   "metadata": {},
   "outputs": [
    {
     "data": {
      "text/plain": [
       "True"
      ]
     },
     "execution_count": 15,
     "metadata": {},
     "output_type": "execute_result"
    }
   ],
   "source": [
    "'123abc'.isalnum()"
   ]
  },
  {
   "cell_type": "code",
   "execution_count": 16,
   "metadata": {},
   "outputs": [
    {
     "data": {
      "text/plain": [
       "False"
      ]
     },
     "execution_count": 16,
     "metadata": {},
     "output_type": "execute_result"
    }
   ],
   "source": [
    "'!123abc'.isalnum()"
   ]
  },
  {
   "cell_type": "code",
   "execution_count": 17,
   "metadata": {},
   "outputs": [
    {
     "data": {
      "text/plain": [
       "False"
      ]
     },
     "execution_count": 17,
     "metadata": {},
     "output_type": "execute_result"
    }
   ],
   "source": [
    "'!123abc'.isalpha()"
   ]
  },
  {
   "cell_type": "code",
   "execution_count": 18,
   "metadata": {},
   "outputs": [
    {
     "data": {
      "text/plain": [
       "True"
      ]
     },
     "execution_count": 18,
     "metadata": {},
     "output_type": "execute_result"
    }
   ],
   "source": [
    "'abc'.isalpha()"
   ]
  },
  {
   "cell_type": "markdown",
   "metadata": {},
   "source": [
    "## 搜索子串\n",
    "![](../Photo/100.png)"
   ]
  },
  {
   "cell_type": "code",
   "execution_count": null,
   "metadata": {},
   "outputs": [],
   "source": [
    "path = ''\n",
    "open_path = open(path,'r',encoding='gbk',ignore='')"
   ]
  },
  {
   "cell_type": "markdown",
   "metadata": {},
   "source": [
    "## 转换字符串\n",
    "![](../Photo/101.png)"
   ]
  },
  {
   "cell_type": "code",
   "execution_count": 3,
   "metadata": {},
   "outputs": [
    {
     "name": "stdout",
     "output_type": "stream",
     "text": [
      "验证码是: kjdk\n",
      ">>KJDK\n",
      "验证码正确\n"
     ]
    }
   ],
   "source": [
    "import random\n",
    "i = 0\n",
    "while i <3 :\n",
    "    yanzhengma1 = chr(random.randint(97,122))\n",
    "    yanzhengma2 = chr(random.randint(65,90))\n",
    "    yanzhengma3 = chr(random.randint(97,122))\n",
    "    yanzhengma4 = chr(random.randint(65,90))\n",
    "    yanzhengma = yanzhengma1 + yanzhengma2+ yanzhengma3 + yanzhengma4\n",
    "    yanzhengma = yanzhengma.lower()\n",
    "    print('验证码是:',yanzhengma)\n",
    "    input_ = input('>>')\n",
    "    if yanzhengma == input_.lower():\n",
    "        print('验证码正确')\n",
    "        break\n",
    "    else:\n",
    "        print('请再输入')\n",
    "        i +=1\n",
    "else:\n",
    "    print('验证码次数超限')"
   ]
  },
  {
   "cell_type": "code",
   "execution_count": 11,
   "metadata": {},
   "outputs": [
    {
     "data": {
      "text/plain": [
       "90"
      ]
     },
     "execution_count": 11,
     "metadata": {},
     "output_type": "execute_result"
    }
   ],
   "source": [
    "ord('Z')"
   ]
  },
  {
   "cell_type": "markdown",
   "metadata": {},
   "source": [
    "## 删除字符串\n",
    "![](../Photo/146.png)"
   ]
  },
  {
   "cell_type": "code",
   "execution_count": null,
   "metadata": {},
   "outputs": [],
   "source": [
    "a = 'w wqwefscz asd ss'\n",
    "a.lstrip()  #默认删除左端空格\n",
    "a.lstrip('w')  #删除左端字符 w\n",
    "a.strip().strip('s')  #删除空格然后删除 s"
   ]
  },
  {
   "cell_type": "code",
   "execution_count": 38,
   "metadata": {},
   "outputs": [
    {
     "data": {
      "text/plain": [
       "<function str.replace>"
      ]
     },
     "execution_count": 38,
     "metadata": {},
     "output_type": "execute_result"
    }
   ],
   "source": [
    "a = ' wqwefscz asd s s@!2ss  '\n",
    "#a.strip() \n",
    "a.replace(' ','')    #替换空格\n",
    "a[-7:-4].replace"
   ]
  },
  {
   "cell_type": "markdown",
   "metadata": {},
   "source": [
    "## 格式化字符串\n",
    "![](../Photo/103.png)"
   ]
  },
  {
   "cell_type": "code",
   "execution_count": 39,
   "metadata": {},
   "outputs": [
    {
     "data": {
      "text/plain": [
       "32"
      ]
     },
     "execution_count": 39,
     "metadata": {},
     "output_type": "execute_result"
    }
   ],
   "source": [
    "ord(' ')"
   ]
  },
  {
   "cell_type": "markdown",
   "metadata": {},
   "source": [
    "## EP:\n",
    "- 1\n",
    "![](../Photo/104.png)\n",
    "- 2 \n",
    "    随机参数100个数字，将www.baidu.com/?page=进行拼接"
   ]
  },
  {
   "cell_type": "markdown",
   "metadata": {},
   "source": [
    "## Python高级使用方法 -- 字符串\n",
    "- 我们经常使用的方法实际上就是调用Python的运算重载\n",
    "![](../Photo/105.png)"
   ]
  },
  {
   "cell_type": "markdown",
   "metadata": {},
   "source": [
    "# Homework\n",
    "- 1\n",
    "![](../Photo/106.png)"
   ]
  },
  {
   "cell_type": "code",
   "execution_count": 1,
   "metadata": {},
   "outputs": [
    {
     "name": "stdout",
     "output_type": "stream",
     "text": [
      "输入社会安全号码：ddd-dd-dddd：444-44-4444\n",
      "Valid SSN\n"
     ]
    }
   ],
   "source": [
    "def Number():\n",
    "    num = str(input(\"输入社会安全号码：ddd-dd-dddd：\"))\n",
    "    if (num[3] == \"-\") and (num[6] == \"-\"):\n",
    "        print(\"Valid SSN\")\n",
    "    else:\n",
    "        print(\"Invalid SSN\")\n",
    "Number()"
   ]
  },
  {
   "cell_type": "markdown",
   "metadata": {},
   "source": [
    "- 2\n",
    "![](../Photo/107.png)"
   ]
  },
  {
   "cell_type": "code",
   "execution_count": 2,
   "metadata": {},
   "outputs": [
    {
     "name": "stdout",
     "output_type": "stream",
     "text": [
      "输入一个字符串：wasd\n",
      "输入另一个字符串：wasd\n",
      "第一个字符串在第二个字符串里\n"
     ]
    }
   ],
   "source": [
    "def myself():\n",
    "    str_1 = str(input(\"输入一个字符串：\"))\n",
    "    str_2 = str(input(\"输入另一个字符串：\"))\n",
    "    if str_2.find(str_1) == -1:\n",
    "        print(\"第一个字符串不在第二个字符串里\")\n",
    "    else:\n",
    "        print(\"第一个字符串在第二个字符串里\")\n",
    "myself()"
   ]
  },
  {
   "cell_type": "markdown",
   "metadata": {},
   "source": [
    "- 3\n",
    "![](../Photo/108.png)"
   ]
  },
  {
   "cell_type": "code",
   "execution_count": 3,
   "metadata": {},
   "outputs": [
    {
     "name": "stdout",
     "output_type": "stream",
     "text": [
      "输入一个密码：admin-123\n",
      "密码设置成功\n"
     ]
    }
   ],
   "source": [
    "def password():\n",
    "    password = input(\"输入一个密码：\")\n",
    "    count0 = 0\n",
    "    count1 = 0\n",
    "    count2 = 0\n",
    "    for i in password:\n",
    "        if i.isalpha() is True:\n",
    "            count1 += 1\n",
    "        if i.isdigit() is True:\n",
    "            count2 += 1\n",
    "        count0 += 1\n",
    "    else:\n",
    "        if count0 < 8:\n",
    "            print(\"密码最少8位\")\n",
    "        if count1 == 0:\n",
    "            print(\"密码必须含有字母\")\n",
    "        if count2 < 2:\n",
    "            print(\"密码必须含有两个数字\")\n",
    "        if count0 >= 8 and count1 != 0 and count2 >= 2 :\n",
    "            print(\"密码设置成功\")\n",
    "password()"
   ]
  },
  {
   "cell_type": "markdown",
   "metadata": {},
   "source": [
    "- 4\n",
    "![](../Photo/109.png)"
   ]
  },
  {
   "cell_type": "code",
   "execution_count": 4,
   "metadata": {},
   "outputs": [
    {
     "name": "stdout",
     "output_type": "stream",
     "text": [
      "字符串中字母的次数为：3\n"
     ]
    }
   ],
   "source": [
    "def countLetters(s):\n",
    "    count = 0\n",
    "    for i in s:\n",
    "        if 65 <= ord(i) <=90 or 97 <= ord(i) <=122:\n",
    "            count += 1\n",
    "    else:\n",
    "        print(\"字符串中字母的次数为：\" + str(count))\n",
    "countLetters(s = \"asd123../*\")"
   ]
  },
  {
   "cell_type": "markdown",
   "metadata": {},
   "source": [
    "- 5\n",
    "![](../Photo/110.png)"
   ]
  },
  {
   "cell_type": "markdown",
   "metadata": {},
   "source": [
    "- 6\n",
    "![](../Photo/111.png)"
   ]
  },
  {
   "cell_type": "code",
   "execution_count": 1,
   "metadata": {},
   "outputs": [
    {
     "name": "stdout",
     "output_type": "stream",
     "text": [
      "fasdfadsf\n"
     ]
    }
   ],
   "source": [
    "def reverse(s):\n",
    "    result = s[::-1]\n",
    "    print(result)\n",
    "reverse(s = \"fsdafdsaf\")"
   ]
  },
  {
   "cell_type": "markdown",
   "metadata": {},
   "source": [
    "- 7\n",
    "![](../Photo/112.png)"
   ]
  },
  {
   "cell_type": "code",
   "execution_count": 5,
   "metadata": {},
   "outputs": [
    {
     "name": "stdout",
     "output_type": "stream",
     "text": [
      "输入一个信用卡号45642854\n",
      "not ok\n"
     ]
    }
   ],
   "source": [
    "def xinyongka():\n",
    "    num=str(input(\"输入一个信用卡号\"))\n",
    "    dig=[]\n",
    "    ji_list=[]\n",
    "    sum_a=0\n",
    "    for i in num:\n",
    "        dig.append(i)\n",
    "    for i in dig[::2]:\n",
    "        ji=int(i)*2\n",
    "        if len(i)==2:\n",
    "            ji1=int(i)%10+int(i)//10\n",
    "            ji_list.append(int(ji1))\n",
    "        else:\n",
    "            ji_list.append(int(ji))\n",
    "    for i in dig[1::2]:\n",
    "        sum_a=sum_a+int(i)\n",
    "    he=sum(ji_list)+sum_a\n",
    "    if he%10==0:\n",
    "        print ('ok')\n",
    "    else:\n",
    "        print ('not ok')\n",
    "xinyongka()"
   ]
  },
  {
   "cell_type": "markdown",
   "metadata": {},
   "source": [
    "- 8\n",
    "![](../Photo/113.png)"
   ]
  },
  {
   "cell_type": "code",
   "execution_count": null,
   "metadata": {},
   "outputs": [],
   "source": [
    "def shuji():\n",
    "    number = input('请输入书籍号：').strip()\n",
    "\n",
    "    # Calculate checksum\n",
    "    sum = 0\n",
    "    for i in range(12):\n",
    "        sum += int(number[i]) * (1 if i % 2 == 0 else 3) \n",
    "\n",
    "    checksum = 10 - sum % 10\n",
    "    if checksum == 10: checksum = 0\n",
    "    \n",
    "    print('生成检验数是：' + number + str(checksum))\n",
    "    \n",
    "shuji()"
   ]
  }
 ],
 "metadata": {
  "kernelspec": {
   "display_name": "Python 3",
   "language": "python",
   "name": "python3"
  },
  "language_info": {
   "codemirror_mode": {
    "name": "ipython",
    "version": 3
   },
   "file_extension": ".py",
   "mimetype": "text/x-python",
   "name": "python",
   "nbconvert_exporter": "python",
   "pygments_lexer": "ipython3",
   "version": "3.6.4"
  }
 },
 "nbformat": 4,
 "nbformat_minor": 2
}
