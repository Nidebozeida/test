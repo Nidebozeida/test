{
 "cells": [
  {
   "cell_type": "markdown",
   "metadata": {},
   "source": [
    "# 选择\n",
    "## 布尔类型、数值和表达式\n",
    "![](../Photo/33.png)\n",
    "- 注意：比较运算符的相等是两个等到，一个等到代表赋值\n",
    "- 在Python中可以用整型0来代表False，其他数字来代表True\n",
    "- 后面还会讲到 is 在判断语句中的用发"
   ]
  },
  {
   "cell_type": "code",
   "execution_count": null,
   "metadata": {},
   "outputs": [],
   "source": [
    "num=eval(input(\"输入你的成绩：\"))\n",
    "if num>=90:\n",
    "    print('流皮')\n",
    "elif 79<num<90:\n",
    "    print('阔以')\n",
    "else:\n",
    "    print(\"垃圾\")"
   ]
  },
  {
   "cell_type": "markdown",
   "metadata": {},
   "source": [
    "## 字符串的比较使用ASCII值"
   ]
  },
  {
   "cell_type": "markdown",
   "metadata": {},
   "source": [
    "## Markdown \n",
    "- https://github.com/younghz/Markdown"
   ]
  },
  {
   "cell_type": "markdown",
   "metadata": {},
   "source": [
    "## EP:\n",
    "- <img src=\"../Photo/34.png\"></img>\n",
    "- 输入一个数字，判断其实奇数还是偶数"
   ]
  },
  {
   "cell_type": "markdown",
   "metadata": {},
   "source": [
    "## 产生随机数字\n",
    "- 函数random.randint(a,b) 可以用来产生一个a和b之间且包括a和b的随机整数"
   ]
  },
  {
   "cell_type": "code",
   "execution_count": null,
   "metadata": {},
   "outputs": [],
   "source": [
    "import random\n",
    "num = random.randint(1,5)\n",
    "while True:\n",
    "    num1=eval(input(\"输入一个数字：\"))\n",
    "    if num1==num:\n",
    "        print('猜对了')\n",
    "        break\n",
    "    elif num1 > num:\n",
    "        print('太大了')\n",
    "    else :\n",
    "        print('太小了')"
   ]
  },
  {
   "cell_type": "markdown",
   "metadata": {},
   "source": [
    "##  其他random方法\n",
    "- random.random 返回0.0到1.0之间前闭后开区间的随机浮点\n",
    "- random.randrange(a,b) 前闭后开"
   ]
  },
  {
   "cell_type": "markdown",
   "metadata": {},
   "source": [
    "## EP：\n",
    "- 产生两个随机整数number1和number2，然后显示给用户，使用户输入数字的和，并判定其是否正确\n",
    "- 进阶:写一个随机序号点名程序"
   ]
  },
  {
   "cell_type": "code",
   "execution_count": 1,
   "metadata": {},
   "outputs": [
    {
     "name": "stdout",
     "output_type": "stream",
     "text": [
      "俩个随机数分别为：10 45\n",
      "输入数字和：88\n",
      "算错了啦，数学是体育老师教的吧！\n"
     ]
    }
   ],
   "source": [
    "import random\n",
    "number1 = random.randint(1,10)\n",
    "number2 = random.randint(1,50)\n",
    "print('俩个随机数分别为：'+ str(number1)+' '+str(number2))\n",
    "summ=eval(input(\"输入数字和：\"))\n",
    "if number1+number2==summ:\n",
    "    print('正确')\n",
    "else:\n",
    "    print('算错了啦，数学是体育老师教的吧！')"
   ]
  },
  {
   "cell_type": "code",
   "execution_count": 2,
   "metadata": {},
   "outputs": [
    {
     "name": "stdout",
     "output_type": "stream",
     "text": [
      "俩个随机数分别为：7 13\n",
      "输入数字和：12\n",
      "算错了啦，数学是体育老师教的吧！\n",
      "输入数字和：20\n",
      "正确\n"
     ]
    }
   ],
   "source": [
    "import random\n",
    "number1 = random.randint(1,10)\n",
    "number2 = random.randint(1,50)\n",
    "print('俩个随机数分别为：'+ str(number1)+' '+str(number2))\n",
    "while True:\n",
    "    summ=eval(input(\"输入数字和：\"))\n",
    "    if number1+number2==summ:\n",
    "        print('正确')\n",
    "        break\n",
    "    else:\n",
    "        print('算错了啦，数学是体育老师教的吧！')"
   ]
  },
  {
   "cell_type": "code",
   "execution_count": null,
   "metadata": {},
   "outputs": [],
   "source": []
  },
  {
   "cell_type": "markdown",
   "metadata": {},
   "source": [
    "## if语句\n",
    "- 如果条件正确就执行一个单向if语句，亦即当条件为真的时候才执行if内部的语句\n",
    "- Python有很多选择语句:\n",
    "> - 单向if \n",
    "  - 双向if-else\n",
    "  - 嵌套if\n",
    "  - 多向if-elif-else\n",
    "  \n",
    "- 注意：当语句含有子语句的时候，那么一定至少要有一个缩进，也就是说如果有儿子存在，那么一定要缩进\n",
    "- 切记不可tab键和space混用，单用tab 或者 space\n",
    "- 当你输出的结果是无论if是否为真时都需要显示时，语句应该与if对齐"
   ]
  },
  {
   "cell_type": "code",
   "execution_count": 1,
   "metadata": {},
   "outputs": [
    {
     "name": "stdout",
     "output_type": "stream",
     "text": [
      "请输入你的年龄：30\n",
      "长相帅吗？：帅\n",
      "收入（高，低）：高\n",
      "是公务员吗？：不是\n",
      "NO\n"
     ]
    }
   ],
   "source": [
    "age=eval(input('请输入你的年龄：'))\n",
    "if age <=  30:\n",
    "    zx=input('长相帅吗？：')\n",
    "    if zx=='帅':\n",
    "        sr=input('收入（高，低）：')\n",
    "        if sr=='高':\n",
    "            zy=input('是公务员吗？：')\n",
    "            if zy=='是': \n",
    "                 print('ok')          \n",
    "            else:\n",
    "                print('NO')       \n",
    "        else:\n",
    "             print('NO')\n",
    "    else:\n",
    "         print('NO')\n",
    "else:\n",
    "    print('NO')"
   ]
  },
  {
   "cell_type": "code",
   "execution_count": 13,
   "metadata": {},
   "outputs": [
    {
     "ename": "SyntaxError",
     "evalue": "Missing parentheses in call to 'print'. Did you mean print(name[mem])? (<ipython-input-13-c4556cf54d0e>, line 4)",
     "output_type": "error",
     "traceback": [
      "\u001b[1;36m  File \u001b[1;32m\"<ipython-input-13-c4556cf54d0e>\"\u001b[1;36m, line \u001b[1;32m4\u001b[0m\n\u001b[1;33m    print name[mem]\u001b[0m\n\u001b[1;37m             ^\u001b[0m\n\u001b[1;31mSyntaxError\u001b[0m\u001b[1;31m:\u001b[0m Missing parentheses in call to 'print'. Did you mean print(name[mem])?\n"
     ]
    }
   ],
   "source": [
    "import random\n",
    "i=len(name)\n",
    "name = {'小国','小明','小猪','小兔'}\n",
    "while i <= len(name):\n",
    "    mem = random.randint(0,len(name)-1)\n",
    "    print (mem)\n",
    "    i -=i\n",
    "\n"
   ]
  },
  {
   "cell_type": "markdown",
   "metadata": {},
   "source": [
    "## EP：\n",
    "- 用户输入一个数字，判断其实奇数还是偶数\n",
    "- 进阶：可以查看下4.5实例研究猜生日"
   ]
  },
  {
   "cell_type": "markdown",
   "metadata": {},
   "source": [
    "## 双向if-else 语句\n",
    "- 如果条件为真，那么走if内部语句，否则走else内部语句"
   ]
  },
  {
   "cell_type": "markdown",
   "metadata": {},
   "source": [
    "## EP：\n",
    "- 产生两个随机整数number1和number2，然后显示给用户，使用户输入数字，并判定其是否正确,如果正确打印“you‘re correct”，否则打印正确错误"
   ]
  },
  {
   "cell_type": "markdown",
   "metadata": {},
   "source": [
    "## 嵌套if 和多向if-elif-else\n",
    "![](../Photo/35.png)"
   ]
  },
  {
   "cell_type": "markdown",
   "metadata": {},
   "source": [
    "## EP：\n",
    "- 提示用户输入一个年份，然后显示表示这一年的动物\n",
    "![](../Photo/36.png)\n",
    "- 计算身体质量指数的程序\n",
    "- BMI = 以千克为单位的体重除以以米为单位的身高\n",
    "![](../Photo/37.png)"
   ]
  },
  {
   "cell_type": "code",
   "execution_count": 3,
   "metadata": {},
   "outputs": [
    {
     "name": "stdout",
     "output_type": "stream",
     "text": [
      "请输入体重（kg）：62\n",
      "请输入身高（米）：1.81\n",
      "标准\n"
     ]
    }
   ],
   "source": [
    "weight = eval(input('请输入体重（kg）：'))\n",
    "height = eval(input('请输入身高（米）：'))\n",
    "BMI=weight/height**2\n",
    "if BMI<18.5:\n",
    "    print('超轻')\n",
    "elif 18.5<= BMI <25.0:\n",
    "    print('标准')\n",
    "elif 25.0<= BMI <30.0:\n",
    "    print('超重')\n",
    "else:\n",
    "    print('痴肥')"
   ]
  },
  {
   "cell_type": "code",
   "execution_count": 5,
   "metadata": {},
   "outputs": [
    {
     "name": "stdout",
     "output_type": "stream",
     "text": [
      "请输入年：2\n",
      "狗年\n"
     ]
    }
   ],
   "source": [
    "year=eval(input('请输入年：'))\n",
    "year= year%12\n",
    "if year==0:\n",
    "    print('猴年')\n",
    "elif year==1:\n",
    "    print('鸡年')\n",
    "elif year==2:\n",
    "    print('狗年')\n",
    "elif year==3:\n",
    "    print('猪年')\n",
    "elif year==4:\n",
    "    print('鼠年')\n",
    "elif year==5:\n",
    "    print('牛年')\n",
    "elif year==6:\n",
    "    print('虎年')\n",
    "elif year==7:\n",
    "    print('兔年')\n",
    "elif year==8:\n",
    "    print('龙年')\n",
    "elif year==9:\n",
    "    print('蛇年')\n",
    "elif year==10:\n",
    "    print('马年')\n",
    "else:\n",
    "    print('羊年')\n",
    "    "
   ]
  },
  {
   "cell_type": "code",
   "execution_count": 9,
   "metadata": {},
   "outputs": [
    {
     "ename": "SyntaxError",
     "evalue": "invalid character in identifier (<ipython-input-9-9eebddf061e9>, line 2)",
     "output_type": "error",
     "traceback": [
      "\u001b[1;36m  File \u001b[1;32m\"<ipython-input-9-9eebddf061e9>\"\u001b[1;36m, line \u001b[1;32m2\u001b[0m\n\u001b[1;33m    arr=['猴年','鸡年','狗年','猪年','鼠年','牛年','虎年','兔年','龙年','蛇年','马年'，'羊年']\u001b[0m\n\u001b[1;37m                                                               ^\u001b[0m\n\u001b[1;31mSyntaxError\u001b[0m\u001b[1;31m:\u001b[0m invalid character in identifier\n"
     ]
    }
   ],
   "source": [
    "arr=['猴年','鸡年','狗年','猪年','鼠年','牛年','虎年','兔年','龙年','蛇年','马年'，'羊年']\n",
    "year=eval(input('请输入年：'))\n",
    "year= year%12\n",
    "print(arr[year])"
   ]
  },
  {
   "cell_type": "markdown",
   "metadata": {},
   "source": [
    "## 逻辑运算符\n",
    "![](../Photo/38.png)"
   ]
  },
  {
   "cell_type": "markdown",
   "metadata": {},
   "source": [
    "![](../Photo/39.png)\n",
    "![](../Photo/40.png)"
   ]
  },
  {
   "cell_type": "markdown",
   "metadata": {},
   "source": [
    "## EP：\n",
    "- 判定闰年：一个年份如果能被4整除但不能被100整除，或者能被400整除，那么这个年份就是闰年\n",
    "- 提示用户输入一个年份，并返回是否是闰年\n",
    "- 提示用户输入一个数字，判断其是否为水仙花数"
   ]
  },
  {
   "cell_type": "code",
   "execution_count": 21,
   "metadata": {},
   "outputs": [
    {
     "name": "stdout",
     "output_type": "stream",
     "text": [
      "请输入年：2008\n",
      "2008闰年\n"
     ]
    }
   ],
   "source": [
    "year=eval(input('请输入年：'))\n",
    "if (year%4==0) and (year%100!=0) or (year%400==0):\n",
    "    print(str(year)+'年是闰年')"
   ]
  },
  {
   "cell_type": "code",
   "execution_count": 24,
   "metadata": {},
   "outputs": [
    {
     "name": "stdout",
     "output_type": "stream",
     "text": [
      "请输入数：153\n",
      "153 是水仙花数\n"
     ]
    }
   ],
   "source": [
    "num=eval(input('请输入数：'))\n",
    "num1 = num%10\n",
    "num2 = (num//10)%10\n",
    "num3 = num//100\n",
    "if num == (num1 ** 3)+ (num2 ** 3) + (num3 ** 3):\n",
    "    print(str(num)+' 是水仙花数')\n",
    "else:\n",
    "    print('否')"
   ]
  },
  {
   "cell_type": "markdown",
   "metadata": {},
   "source": [
    "## 实例研究：彩票\n",
    "![](../Photo/41.png)"
   ]
  },
  {
   "cell_type": "code",
   "execution_count": 43,
   "metadata": {},
   "outputs": [
    {
     "data": {
      "text/plain": [
       "3"
      ]
     },
     "execution_count": 43,
     "metadata": {},
     "output_type": "execute_result"
    }
   ],
   "source": [
    "num=[1,2,3,4,5]\n",
    "num[2]"
   ]
  },
  {
   "cell_type": "code",
   "execution_count": 41,
   "metadata": {},
   "outputs": [
    {
     "name": "stdout",
     "output_type": "stream",
     "text": [
      "输入一个俩位数：26\n",
      "恭喜你中奖了，奖金为1000美金\n"
     ]
    }
   ],
   "source": [
    "import random\n",
    "number1 = random.randint(10,50)\n",
    "summ=eval(input(\"输入一个俩位数：\"))\n",
    "ge=summ%10\n",
    "shi=summ//10\n",
    "nge=number1%10\n",
    "nshi=number1//10\n",
    "if ge==nge and shi==nshi :\n",
    "    print('恭喜你中奖了，奖金为10000美金')\n",
    "elif ((ge==nge) or (ge==nshi)) and ((shi==nge) or (shi==nshi)):\n",
    "    print('恭喜你中奖了，奖金为3000美金')\n",
    "elif (ge==nge) or (ge==nshi) or (shi==nge) or (shi==nshi):\n",
    "    print('恭喜你中奖了，奖金为1000美金')\n",
    "else :\n",
    "    print('未中奖')"
   ]
  },
  {
   "cell_type": "markdown",
   "metadata": {},
   "source": [
    "# Homework\n",
    "- 1\n",
    "![](../Photo/42.png)"
   ]
  },
  {
   "cell_type": "code",
   "execution_count": 7,
   "metadata": {},
   "outputs": [
    {
     "name": "stdout",
     "output_type": "stream",
     "text": [
      "请输入a,b,c三个数用，隔开：1,2,3\n",
      "The equation has no real roots \n"
     ]
    }
   ],
   "source": [
    "import math\n",
    "a,b,c=eval(input('请输入a,b,c三个数用，隔开：'))\n",
    "root=b**2-4*a*c\n",
    "if root>0:\n",
    "    r1=(-b+math.sqrt(root))/2*a\n",
    "    r2=(-b-math.sqrt(root))/2*a\n",
    "    print('The roots are  '+str(r1)+' and  '+str(r2))\n",
    "elif root==0:\n",
    "    r1=(-b+math.sqrt(root))/2*a\n",
    "    print('The roots are  '+str(r1))\n",
    "else:\n",
    "    print('The equation has no real roots ')"
   ]
  },
  {
   "cell_type": "markdown",
   "metadata": {},
   "source": [
    "- 2\n",
    "![](../Photo/43.png)"
   ]
  },
  {
   "cell_type": "code",
   "execution_count": 8,
   "metadata": {},
   "outputs": [
    {
     "name": "stdout",
     "output_type": "stream",
     "text": [
      "俩个随机数分别为：48 89\n",
      "输入数字和：55\n",
      "算错了啦，数学是体育老师教的吧！\n",
      "输入数字和：137\n",
      "正确\n"
     ]
    }
   ],
   "source": [
    "import random\n",
    "number1 = random.randint(1,100)\n",
    "number2 = random.randint(1,100)\n",
    "print('俩个随机数分别为：'+ str(number1)+' '+str(number2))\n",
    "while True:\n",
    "    summ=eval(input(\"输入数字和：\"))\n",
    "    if number1+number2==summ:\n",
    "        print('正确')\n",
    "        break\n",
    "    else:\n",
    "        print('算错了啦，数学是体育老师教的吧！')"
   ]
  },
  {
   "cell_type": "markdown",
   "metadata": {},
   "source": [
    "- 3\n",
    "![](../Photo/44.png)"
   ]
  },
  {
   "cell_type": "code",
   "execution_count": 18,
   "metadata": {},
   "outputs": [
    {
     "name": "stdout",
     "output_type": "stream",
     "text": [
      "请输入今天是周几#星期日是0：1\n",
      "请输入天数：3\n",
      "今天是星期一。3天后是周四！\n"
     ]
    }
   ],
   "source": [
    "arr=['星期日','星期一','星期二','星期三','星期四','星期五','星期六']\n",
    "date_num = eval(input('请输入今天是周几#星期日是0：'))\n",
    "date_fut = eval(input('请输入天数：'))\n",
    "if (date_num+date_fut)%7 ==0:  \n",
    "    print('今天是'+arr[date_num]+'。'+str(date_fut)+ '天后是周日！')\n",
    "elif (date_num+date_fut)%7==1:\n",
    "    print('今天是'+arr[date_num]+'。'+str(date_fut)+ '天后是周一！')\n",
    "elif (date_num+date_fut)%7==2:\n",
    "    print('今天是'+arr[date_num]+'。'+str(date_fut)+ '天后是周二！')\n",
    "elif (date_num+date_fut)%7==3:\n",
    "    print('今天是'+arr[date_num]+'。'+str(date_fut)+ '天后是周三！')\n",
    "elif (date_num+date_fut)%7==4:\n",
    "    print('今天是'+arr[date_num]+'。'+str(date_fut)+ '天后是周四！')\n",
    "elif (date_num+date_fut)%7==5:\n",
    "    print('今天是'+arr[date_num]+'。'+str(date_fut)+ '天后是周五！')\n",
    "else :\n",
    "    print('今天是'+arr[date_num]+'。'+str(date_fut)+ '天后是周六！')"
   ]
  },
  {
   "cell_type": "markdown",
   "metadata": {},
   "source": [
    "- 4\n",
    "![](../Photo/45.png)"
   ]
  },
  {
   "cell_type": "code",
   "execution_count": 17,
   "metadata": {},
   "outputs": [
    {
     "name": "stdout",
     "output_type": "stream",
     "text": [
      "请输入a,b,c三个数用，隔开：5,7,1\n",
      "[1, 5, 7]\n"
     ]
    }
   ],
   "source": [
    "a,b,c=eval(input('请输入a,b,c三个数用，隔开：'))\n",
    "arr = [a,b,c]\n",
    "print(sorted(arr))"
   ]
  },
  {
   "cell_type": "markdown",
   "metadata": {},
   "source": [
    "- 5\n",
    "![](../Photo/46.png)"
   ]
  },
  {
   "cell_type": "code",
   "execution_count": 29,
   "metadata": {},
   "outputs": [
    {
     "name": "stdout",
     "output_type": "stream",
     "text": [
      "请输入重量（kg）和价格：20,24.59\n",
      "请输入重量（kg）和价格：25,11.99\n",
      "package 2 has the better price\n"
     ]
    }
   ],
   "source": [
    "weight,m = eval(input('请输入重量（kg）和价格：'))\n",
    "weight1,m1 = eval(input('请输入重量（kg）和价格：'))\n",
    "money=m/weight\n",
    "money1=m1/weight1\n",
    "if money<money1:\n",
    "    print('package 1 has the better price')\n",
    "elif money==money1:\n",
    "    print('same price')\n",
    "else:\n",
    "     print('package 2 has the better price')"
   ]
  },
  {
   "cell_type": "markdown",
   "metadata": {},
   "source": [
    "- 6\n",
    "![](../Photo/47.png)"
   ]
  },
  {
   "cell_type": "code",
   "execution_count": 30,
   "metadata": {},
   "outputs": [
    {
     "name": "stdout",
     "output_type": "stream",
     "text": [
      "请输入月份和年：2,2000\n",
      "2000年2月有29天\n"
     ]
    }
   ],
   "source": [
    "month,year = eval(input('请输入月份和年：'))\n",
    "if month==1 or month==3 or month==5 or month==7 or month==8 or month==10 or month==12:\n",
    "    print(str(year)+'年'+str(month)+'月有31天')\n",
    "elif month==2:\n",
    "    print(str(year)+'年'+str(month)+'月有29天')\n",
    "else:\n",
    "    print(str(year)+'年'+str(month)+'月有30天')\n",
    "    "
   ]
  },
  {
   "cell_type": "markdown",
   "metadata": {},
   "source": [
    "- 7\n",
    "![](../Photo/48.png)"
   ]
  },
  {
   "cell_type": "code",
   "execution_count": 37,
   "metadata": {},
   "outputs": [
    {
     "name": "stdout",
     "output_type": "stream",
     "text": [
      "请输入猜测值（1是正面，2是反面）：1\n",
      "猜测错误\n"
     ]
    }
   ],
   "source": [
    "import random\n",
    "num=random.randint(1,2)\n",
    "num1 = eval(input('请输入猜测值（1是正面，2是反面）：'))\n",
    "if num1==num:\n",
    "    print('猜测正确')\n",
    "else:\n",
    "    print('猜测错误')"
   ]
  },
  {
   "cell_type": "markdown",
   "metadata": {},
   "source": [
    "- 8\n",
    "![](../Photo/49.png)"
   ]
  },
  {
   "cell_type": "code",
   "execution_count": 15,
   "metadata": {},
   "outputs": [
    {
     "name": "stdout",
     "output_type": "stream",
     "text": [
      "请输入值（0,1,2）：0\n",
      "The computer is 石头。 You is 剪刀。  电脑获胜\n"
     ]
    }
   ],
   "source": [
    "import random\n",
    "a=['剪刀','石头','布']\n",
    "num1= eval(input('请输入值（0,1,2）：'))\n",
    "num2=random.randint(0,2)\n",
    "if num1==num2:\n",
    "    print('The computer is '+a[num2]+'。 You is '+a[num1]+'。   平手')\n",
    "elif num1<num2:\n",
    "    if num1==0 and num2==2:\n",
    "        print('The computer is '+a[num2]+'。 You is '+a[num1]+'。  你获胜')\n",
    "    else:\n",
    "        print('The computer is '+a[num2]+'。 You is '+a[num1]+'。  电脑获胜')\n",
    "else:\n",
    "    if num1==2 and num2==0:\n",
    "        print('The computer is '+a[num2]+'。 You is '+a[num1]+'。  电脑获胜')\n",
    "    else:\n",
    "        print('The computer is '+a[num2]+'。 You is '+a[num1]+'。  你获胜')\n",
    "   "
   ]
  },
  {
   "cell_type": "markdown",
   "metadata": {},
   "source": [
    "- 9\n",
    "![](../Photo/50.png)"
   ]
  },
  {
   "cell_type": "code",
   "execution_count": 46,
   "metadata": {
    "scrolled": true
   },
   "outputs": [
    {
     "name": "stdout",
     "output_type": "stream",
     "text": [
      "请输入年份：2012\n",
      "请输入年月份：5\n",
      "某一天：12\n",
      "今天是 星期六\n"
     ]
    }
   ],
   "source": [
    "arr = ['星期六','星期日','星期一','星期二','星期三','星期四','星期五']\n",
    "year = int(input('请输入年份：'))\n",
    "m = int(input('请输入年月份：'))\n",
    "q = int(input('某一天：'))\n",
    "if m==1:\n",
    "    year=year-1\n",
    "    m=13\n",
    "    j=abs(year/100)//1\n",
    "    k=year%100\n",
    "    h=(q+abs((26*(m+1))/10)//1+k+abs(k/4)//1+abs(j/4)//1+5*j)%7\n",
    "    print('今天是 '+arr[int(h)])\n",
    "elif m==2:\n",
    "    year=year-1\n",
    "    m=14\n",
    "    j=abs(year/100)//1\n",
    "    k=year%100\n",
    "    h=(q+abs((26*(m+1))/10)//1+k+abs(k/4)//1+abs(j/4)//1+5*j)%7\n",
    "    print('今天是 '+arr[int(h)])\n",
    "else:\n",
    "    j=abs(year/100)//1\n",
    "    k=year%100\n",
    "    h=(q+abs((26*(m+1))/10)//1+k+abs(k/4)//1+abs(j/4)//1+5*j)%7\n",
    "    print('今天是 '+arr[int(h)])"
   ]
  },
  {
   "cell_type": "markdown",
   "metadata": {},
   "source": [
    "- 10\n",
    "![](../Photo/51.png)"
   ]
  },
  {
   "cell_type": "code",
   "execution_count": 35,
   "metadata": {},
   "outputs": [
    {
     "name": "stdout",
     "output_type": "stream",
     "text": [
      "The card you picked is 梅花10\n"
     ]
    }
   ],
   "source": [
    "import random\n",
    "m=random.randint(0,12)\n",
    "n=random.randint(0,3)\n",
    "arr = ['Ace', '2', '3', '4', '5', '6', '7', '8', '9', '10', 'Jack', 'Queen', 'King']\n",
    "brr = ['梅花', '红桃', '方块', '黑桃']\n",
    "print ('The card you picked is '+brr[n]+arr[m])"
   ]
  },
  {
   "cell_type": "markdown",
   "metadata": {},
   "source": [
    "- 11\n",
    "![](../Photo/52.png)"
   ]
  },
  {
   "cell_type": "code",
   "execution_count": null,
   "metadata": {},
   "outputs": [],
   "source": [
    "num= eval(input('请输入一个三位数：'))\n",
    "num1=num%10\n",
    "num2=num//10%10\n",
    "num3=num//100\n",
    "if num1==num3:\n",
    "    print(str(num)+'是一个回文数')\n",
    "else:\n",
    "    print(str(num)+'不是一个回文数')"
   ]
  },
  {
   "cell_type": "code",
   "execution_count": 3,
   "metadata": {},
   "outputs": [
    {
     "name": "stdout",
     "output_type": "stream",
     "text": [
      "请输入一个三位数：121\n",
      "121是一个回文数\n"
     ]
    }
   ],
   "source": [
    "num = input('请输入一个三位数：')\n",
    "if num[0] == num[2]:\n",
    "    print(str(num)+'是一个回文数')\n",
    "else:\n",
    "    print(str(num)+'不是一个回文数')"
   ]
  },
  {
   "cell_type": "markdown",
   "metadata": {},
   "source": [
    "- 12\n",
    "![](../Photo/53.png)"
   ]
  },
  {
   "cell_type": "code",
   "execution_count": 3,
   "metadata": {},
   "outputs": [
    {
     "name": "stdout",
     "output_type": "stream",
     "text": [
      "请输入三个边长：1,1,1\n",
      "三角形的周长为：3\n"
     ]
    }
   ],
   "source": [
    "a,b,c=eval(input('请输入三个边长：'))\n",
    "if (a+b>c) and (a+c>b) and (b+c>a):\n",
    "    lenth=a + b + c\n",
    "    print('三角形的周长为：'+str(lenth))\n",
    "else:\n",
    "    print('此三边构不成三角形')"
   ]
  }
 ],
 "metadata": {
  "kernelspec": {
   "display_name": "Python 3",
   "language": "python",
   "name": "python3"
  },
  "language_info": {
   "codemirror_mode": {
    "name": "ipython",
    "version": 3
   },
   "file_extension": ".py",
   "mimetype": "text/x-python",
   "name": "python",
   "nbconvert_exporter": "python",
   "pygments_lexer": "ipython3",
   "version": "3.6.4"
  }
 },
 "nbformat": 4,
 "nbformat_minor": 2
}
